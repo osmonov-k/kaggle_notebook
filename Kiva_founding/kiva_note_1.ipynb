{
 "cells": [
  {
   "cell_type": "markdown",
   "metadata": {},
   "source": [
    "# Table of contents"
   ]
  },
  {
   "cell_type": "markdown",
   "metadata": {},
   "source": [
    "1 Introduction\n",
    "2 Preparation\n",
    "3 Glimpse of Data\n",
    "4 Most Popular Sector\n",
    "5 Most Popular Activity for taking loans\n",
    "6 Most Popular Use of loans\n",
    "7 Distribution of the Funded Loan amount\n",
    "7.1 Distribution of the Funded Loan amount by Country\n",
    "7.2 Summary of Funded Amount\n",
    "7.3 Distribution of the Funded Loan amount by Sector\n",
    "7.4 Distribution of loans by Gender\n",
    "8 Most common Term In Months in loans\n",
    "9 Most Popular Countries for loans\n",
    "10 Maps of Loans\n",
    "11 Themes Loan combined\n",
    "12 Most Popular Theme\n",
    "13 Africa\n",
    "13.1 Distribution of loans in Africa\n",
    "13.2 African Conflicts Data\n",
    "13.2.1 Battle affected Countries\n",
    "13.2.2 Loans in Battle affected Countries\n",
    "13.3 Use of loans in Africa\n",
    "13.4 Most Popular Sector in Africa\n",
    "13.5 Distribution of the Funded Loan amount in Africa\n",
    "13.6 Summary of Funded Amount in Africa\n",
    "14 Asia\n",
    "14.1 Distribution of loans in Asia\n",
    "14.2 Poorest Asian Countries from Multidimensional Poverty Measures\n",
    "14.3 Explore the loans in the Poorest Asian countries\n",
    "14.4 Use of loans in Asia\n",
    "14.5 Most Popular Sector in Asia\n",
    "14.6 Distribution of the Funded Loan amount in Asia\n",
    "14.7 Summary of Funded Amount in Asia\n",
    "15 Americas\n",
    "15.1 Distribution of loans in Americas\n",
    "15.2 Poorest South American Countries from Multidimensional Poverty Measures\n",
    "15.3 Explore the loans in the Poorest South American countries\n",
    "15.4 Use of loans in Americas\n",
    "15.5 Most Popular Sector in America\n",
    "15.6 Distribution of the Funded Loan amount in America\n",
    "15.7 Summary of Funded Amount in America\n",
    "16 Philippines\n",
    "17 Kenya\n",
    "18 El Salvador\n",
    "19 India\n",
    "\n",
    "25 Kenya Demographic and Health Survey analysis\n",
    "25.1 Asset Indicator distribution\n",
    "25.2 Asset Indicator and MPI\n",
    "25.3 Distribution Asset Inidcator\n",
    "25.4 Travel Times and MPI\n",
    "25.5 NightLights Distribution\n",
    "25.6 Number of DHS Clusters\n",
    "25.7 Modelling\n",
    "25.7.1 Prediction variable\n",
    "25.7.2 Columns for modelling\n",
    "25.7.3 XGBoost\n",
    "25.7.4 The Model Details"
   ]
  },
  {
   "cell_type": "markdown",
   "metadata": {},
   "source": [
    "# Pre-Overview of Data"
   ]
  },
  {
   "cell_type": "markdown",
   "metadata": {},
   "source": [
    "## Importing libraries"
   ]
  },
  {
   "cell_type": "code",
   "execution_count": 2,
   "metadata": {},
   "outputs": [],
   "source": [
    "# importing library\n",
    "import pandas as pd\n",
    "import numpy as np\n",
    "import pandas_profiling\n",
    "import missingno as msno\n",
    "\n",
    "# libraries for visualization\n",
    "import matplotlib.pyplot as plt\n",
    "import seaborn as sns\n",
    "plt.style.use('ggplot')\n",
    "\n",
    "import os\n",
    "from subprocess import check_output\n",
    "import scipy\n"
   ]
  },
  {
   "cell_type": "markdown",
   "metadata": {},
   "source": [
    "## Importing data"
   ]
  },
  {
   "cell_type": "code",
   "execution_count": 3,
   "metadata": {},
   "outputs": [
    {
     "name": "stdout",
     "output_type": "stream",
     "text": [
      "kiva_loans.csv\n",
      "kiva_mpi_region_locations.csv\n",
      "kiva_note_1.ipynb\n",
      "loan_theme_ids.csv\n",
      "loan_themes_by_region.csv\n",
      "\n"
     ]
    }
   ],
   "source": [
    "print(check_output(['ls', '../Kiva_founding']).decode('utf8'))"
   ]
  },
  {
   "cell_type": "code",
   "execution_count": 4,
   "metadata": {},
   "outputs": [],
   "source": [
    "# main data\n",
    "kiva_loans = pd.read_csv('kiva_loans.csv')\n",
    "\n",
    "# data of MPI\n",
    "kiva_index = pd.read_csv('kiva_mpi_region_locations.csv')\n",
    "\n",
    "# data of partners\n",
    "kiva_partners = pd.read_csv('loan_themes_by_region.csv')"
   ]
  },
  {
   "cell_type": "markdown",
   "metadata": {},
   "source": [
    "# Data Summary"
   ]
  },
  {
   "cell_type": "markdown",
   "metadata": {},
   "source": [
    "## Kiva Loans"
   ]
  },
  {
   "cell_type": "markdown",
   "metadata": {},
   "source": [
    "\n",
    "Questions:\n",
    "- Most Popular Sector\n",
    "- Most Popular Activity for taking loans\n",
    "- Most Popular Use of loans\n",
    "- Distribution of the Funded Loan amount\n",
    "- Distribution of the Funded Loan amount by Country\n",
    "- Summary of Funded Amount\n",
    "- Distribution of the Funded Loan amount by Sector\n",
    "- Distribution of loans by Gender\n",
    "- Most common Term In Months in loans\n",
    "- Most Popular Countries for loans\n",
    "- Maps of Loans\n",
    "- Themes Loan combined\n",
    "- Most Popular Theme\n",
    "\n",
    "Hypothesis:"
   ]
  },
  {
   "cell_type": "code",
   "execution_count": null,
   "metadata": {},
   "outputs": [],
   "source": [
    "kiva_loans.sample(1)"
   ]
  },
  {
   "cell_type": "code",
   "execution_count": null,
   "metadata": {},
   "outputs": [],
   "source": [
    "kiva_loans.info()"
   ]
  },
  {
   "cell_type": "code",
   "execution_count": null,
   "metadata": {},
   "outputs": [],
   "source": [
    "kiva_loans.dtypes.unique().tolist()"
   ]
  },
  {
   "cell_type": "code",
   "execution_count": null,
   "metadata": {},
   "outputs": [],
   "source": [
    "pandas_profiling.ProfileReport(kiva_loans.iloc[:, 1:7])"
   ]
  },
  {
   "cell_type": "code",
   "execution_count": null,
   "metadata": {},
   "outputs": [],
   "source": [
    "# missing files\n",
    "msno.matrix(kiva_loans)"
   ]
  },
  {
   "cell_type": "code",
   "execution_count": null,
   "metadata": {},
   "outputs": [],
   "source": [
    "data_missing = round(kiva_loans.isnull().sum()/len(kiva_loans), 3)\n",
    "missing_perc = pd.DataFrame({'feature':data_missing.index, 'perc_nan':data_missing.values})"
   ]
  },
  {
   "cell_type": "code",
   "execution_count": null,
   "metadata": {},
   "outputs": [],
   "source": [
    "# multiplying by 100\n",
    "missing_perc.iloc[:, 1] = missing_perc.iloc[:, 1].apply(lambda x: round(x*100, 2))"
   ]
  },
  {
   "cell_type": "code",
   "execution_count": null,
   "metadata": {},
   "outputs": [],
   "source": [
    "# filtering by missing percentage more than 2%\n",
    "missing_perc[missing_perc['perc_nan']>=2].sort_values('perc_nan', ascending=False)"
   ]
  },
  {
   "cell_type": "markdown",
   "metadata": {},
   "source": [
    "## Borrower Gender"
   ]
  },
  {
   "cell_type": "code",
   "execution_count": 278,
   "metadata": {},
   "outputs": [],
   "source": [
    "kiva_loans[['borrower_genders']] = [elem if elem in ['female','male'] else 'group' for elem in kiva_loans['borrower_genders'] ]"
   ]
  },
  {
   "cell_type": "code",
   "execution_count": 279,
   "metadata": {},
   "outputs": [
    {
     "ename": "NameError",
     "evalue": "name 'go' is not defined",
     "output_type": "error",
     "traceback": [
      "\u001b[0;31m---------------------------------------------------------------------------\u001b[0m",
      "\u001b[0;31mNameError\u001b[0m                                 Traceback (most recent call last)",
      "\u001b[0;32m<ipython-input-279-65b913c95d85>\u001b[0m in \u001b[0;36m<module>\u001b[0;34m\u001b[0m\n\u001b[1;32m      6\u001b[0m \u001b[0mvalues\u001b[0m \u001b[0;34m=\u001b[0m \u001b[0;34m(\u001b[0m\u001b[0mnp\u001b[0m\u001b[0;34m.\u001b[0m\u001b[0marray\u001b[0m\u001b[0;34m(\u001b[0m\u001b[0;34m(\u001b[0m\u001b[0mborrowers\u001b[0m \u001b[0;34m/\u001b[0m \u001b[0mborrowers\u001b[0m\u001b[0;34m.\u001b[0m\u001b[0msum\u001b[0m\u001b[0;34m(\u001b[0m\u001b[0;34m)\u001b[0m\u001b[0;34m)\u001b[0m\u001b[0;34m*\u001b[0m\u001b[0;36m100\u001b[0m\u001b[0;34m)\u001b[0m\u001b[0;34m)\u001b[0m\u001b[0;34m\u001b[0m\u001b[0;34m\u001b[0m\u001b[0m\n\u001b[1;32m      7\u001b[0m \u001b[0;34m\u001b[0m\u001b[0m\n\u001b[0;32m----> 8\u001b[0;31m trace = go.Pie(labels=labels, values=values,\n\u001b[0m\u001b[1;32m      9\u001b[0m               \u001b[0mhoverinfo\u001b[0m\u001b[0;34m=\u001b[0m\u001b[0;34m'label+percent'\u001b[0m\u001b[0;34m,\u001b[0m\u001b[0;34m\u001b[0m\u001b[0;34m\u001b[0m\u001b[0m\n\u001b[1;32m     10\u001b[0m                \u001b[0mtextfont\u001b[0m\u001b[0;34m=\u001b[0m\u001b[0mdict\u001b[0m\u001b[0;34m(\u001b[0m\u001b[0msize\u001b[0m\u001b[0;34m=\u001b[0m\u001b[0;36m20\u001b[0m\u001b[0;34m)\u001b[0m\u001b[0;34m,\u001b[0m\u001b[0;34m\u001b[0m\u001b[0;34m\u001b[0m\u001b[0m\n",
      "\u001b[0;31mNameError\u001b[0m: name 'go' is not defined"
     ]
    }
   ],
   "source": [
    "kiva_loans['borrower_genders']=[elem if elem in ['female','male'] else 'group' for elem in kiva_loans['borrower_genders'] ]\n",
    "#to replace values such as \"woman, woman, woman, man\"\n",
    "\n",
    "borrowers = kiva_loans['borrower_genders'].value_counts()\n",
    "labels = (np.array(borrowers.index))\n",
    "values = (np.array((borrowers / borrowers.sum())*100))\n",
    "\n",
    "trace = go.Pie(labels=labels, values=values,\n",
    "              hoverinfo='label+percent',\n",
    "               textfont=dict(size=20),\n",
    "                showlegend=True)\n",
    "\n",
    "layout = go.Layout(\n",
    "    title=\"Borrowers' genders\"\n",
    ")\n",
    "\n",
    "data_trace = [trace]\n",
    "fig = go.Figure(data=data_trace, layout=layout)\n",
    "py.iplot(fig, filename=\"Borrowers_genders\")"
   ]
  },
  {
   "cell_type": "code",
   "execution_count": null,
   "metadata": {},
   "outputs": [],
   "source": [
    "# Aggregating by sector\n",
    "sector = kiva_loans.groupby('sector').sum()"
   ]
  },
  {
   "cell_type": "markdown",
   "metadata": {},
   "source": [
    "### Plotting loan by sector"
   ]
  },
  {
   "cell_type": "code",
   "execution_count": null,
   "metadata": {},
   "outputs": [],
   "source": [
    "# sector[['loan_amount']].T\n",
    "sector"
   ]
  },
  {
   "cell_type": "code",
   "execution_count": 280,
   "metadata": {},
   "outputs": [
    {
     "data": {
      "image/png": "[encoded data removed]",
      "text/plain": [
       "<Figure size 1080x360 with 1 Axes>"
      ]
     },
     "metadata": {},
     "output_type": "display_data"
    }
   ],
   "source": [
    "from matplotlib.ticker import FuncFormatter\n",
    "\n",
    "fig, ax = plt.subplots(figsize=(15, 5))\n",
    "# sorting sector loans\n",
    "sector.sort_values('loan_amount', ascending=False, inplace=True)\n",
    "\n",
    "\n",
    "sns.barplot(x=sector.index, y=sector.loan_amount.values, log=False)\n",
    "plt.xticks(rotation=90, fontsize=12)\n",
    "fig.suptitle(\"Loan Amount by Sectors (Mln)\", fontsize = 24)\n",
    "ax.set_xlabel('Sectors Loan provided', fontsize=15)\n",
    "ax.set_ylabel('Loan Amount', fontsize=15)\n",
    "\n",
    "x = sector.loan_amount.values\n",
    "y = sector.loan_amount.values\n",
    "\n",
    "# change range of number on y-axis\n",
    "ax.yaxis.set_ticks(np.arange(0, 150000000, 25000000))\n",
    "# formatting numbers on yaxis\n",
    "ax.yaxis.set_major_formatter(FuncFormatter(lambda x, y: '%3.2f' % (x * 1e-6)))"
   ]
  },
  {
   "cell_type": "code",
   "execution_count": 303,
   "metadata": {},
   "outputs": [
    {
     "data": {
      "image/png": "[encoded data removed]",
      "text/plain": [
       "<Figure size 1440x720 with 1 Axes>"
      ]
     },
     "metadata": {},
     "output_type": "display_data"
    }
   ],
   "source": [
    "# Interquartiles for removing outliers\n",
    "Q3 = np.quantile(kiva_loans['loan_amount'], 0.75)\n",
    "Q1 = np.quantile(kiva_loans['loan_amount'], 0.25)\n",
    "IQR = Q3 - Q1\n",
    "Upper_bound = Q3 + 1.5 * IQR\n",
    "Lower_bound = Q1 - 1.5 * IQR\n",
    "\n",
    "fig, ax = plt.subplots(figsize=(20, 10))\n",
    "box_plot = kiva_loans[(kiva_loans['loan_amount'] >= Lower_bound) & (kiva_loans['loan_amount'] <= Upper_bound)]\n",
    "ax = sns.boxplot(y='sector', x='loan_amount', data=box_plot)\n",
    "plt.xticks(rotation=90)\n",
    "ax.set_xlabel('Loan Amount by sector')\n",
    "ax.set_title('Loans')\n",
    "ax.set_ylabel('Sectors')\n",
    "ax.axvline(np.quantile(kiva_loans['loan_amount'], 0.5), color='r')\n",
    "plt.show()"
   ]
  },
  {
   "cell_type": "code",
   "execution_count": 295,
   "metadata": {},
   "outputs": [
    {
     "data": {
      "text/plain": [
       "<matplotlib.axes._subplots.AxesSubplot at 0x163ef2e20>"
      ]
     },
     "execution_count": 295,
     "metadata": {},
     "output_type": "execute_result"
    },
    {
     "data": {
      "image/png": "[encoded data removed]",
      "text/plain": [
       "<Figure size 576x396 with 1 Axes>"
      ]
     },
     "metadata": {},
     "output_type": "display_data"
    }
   ],
   "source": [
    "# Popular Activity\n",
    "activity = kiva_loans.activity.value_counts().nlargest(10).sort_values()\n",
    "activity.plot(kind='barh')"
   ]
  },
  {
   "cell_type": "code",
   "execution_count": null,
   "metadata": {},
   "outputs": [],
   "source": [
    "#Distribution of Loan Activity type\n",
    "\n",
    "plt.figure(figsize=(15,8))\n",
    "count = kiva_loans['activity'].value_counts().head(30)\n",
    "sns.barplot(count.values, count.index)\n",
    "for i, v in enumerate(count.values):\n",
    "    plt.text(0.8,i,v,color='k',fontsize=12)\n",
    "plt.xlabel('Count', fontsize=12)\n",
    "plt.ylabel('Activity name?', fontsize=12)\n",
    "plt.title(\"Top Loan Activity type\", fontsize=16)"
   ]
  },
  {
   "cell_type": "code",
   "execution_count": 11,
   "metadata": {},
   "outputs": [
    {
     "data": {
      "text/plain": [
       "to buy a water filter to provide safe drinking water for their family.                       5217\n",
       "to buy a water filter to provide safe drinking water for her family.                         4082\n",
       "To buy a water filter to provide safe drinking water for their family.                       2141\n",
       "to build a sanitary toilet for her family.                                                   1708\n",
       "to build a sanitary toilet for her family                                                    1599\n",
       "                                                                                             ... \n",
       "to add capital to her mobile money business.                                                    1\n",
       "to buy canvas, vinyl, inks, wood, etc.                                                          1\n",
       "to purchase school supplies for his children.                                                   1\n",
       "to buy more inventory such as soap, sugar, rice, tea, oil, etc. to sell to his community.       1\n",
       "to help 65 villagers hire laborers to help with weeding                                         1\n",
       "Name: use, Length: 424912, dtype: int64"
      ]
     },
     "execution_count": 11,
     "metadata": {},
     "output_type": "execute_result"
    }
   ],
   "source": [
    "kiva_loans_usage.use.value_counts()\n",
    "# print(kiva_loans_usage.iloc[:, 1].value_counts())"
   ]
  },
  {
   "cell_type": "code",
   "execution_count": 1,
   "metadata": {},
   "outputs": [],
   "source": [
    "def loan_usage(x):\n",
    "    if 'water' in x:\n",
    "        return 'water'\n",
    "    if 'sanitary' in x:\n",
    "        return 'sanitary'\n",
    "    if 'fertilizer' in x:\n",
    "        return 'fertilizer'\n",
    "    else:\n",
    "        return x"
   ]
  },
  {
   "cell_type": "code",
   "execution_count": 12,
   "metadata": {},
   "outputs": [
    {
     "data": {
      "text/plain": [
       "0              To buy seasonal, fresh fruits to sell. \n",
       "1    to repair and maintain the auto rickshaw used ...\n",
       "2    To repair their old cycle-van and buy another ...\n",
       "3    to purchase an embroidery machine and a variet...\n",
       "4                             to purchase one buffalo.\n",
       "5    purchase leather for my business using ksh 20000.\n",
       "6    To purchase a dairy cow and start a milk produ...\n",
       "7           to buy more hair and skin care products.  \n",
       "8    to purchase leather, plastic soles and heels i...\n",
       "9    to buy a stall, gram flour, ketchup, and coal ...\n",
       "Name: use, dtype: object"
      ]
     },
     "execution_count": 12,
     "metadata": {},
     "output_type": "execute_result"
    }
   ],
   "source": [
    "kiva_loans_usage['use'][kiva_loans_usage['use'].notnull()].iloc[:10, ]"
   ]
  },
  {
   "cell_type": "code",
   "execution_count": null,
   "metadata": {},
   "outputs": [],
   "source": [
    "from sklearn.feature_extraction.text import CountVectorizer\n",
    "\n",
    "texts = kiva_loans_usage['use'][kiva_loans_usage['use'].notnull()]\n",
    "\n",
    "cv = CountVectorizer()   \n",
    "cv_fit=cv.fit_transform(texts)    \n",
    "word_list = cv.get_feature_names();    \n",
    "count_list = cv_fit.toarray().sum(axis=0)  "
   ]
  },
  {
   "cell_type": "code",
   "execution_count": 23,
   "metadata": {},
   "outputs": [],
   "source": [
    "lst = dict(zip(word_list,count_list))"
   ]
  },
  {
   "cell_type": "code",
   "execution_count": 10,
   "metadata": {},
   "outputs": [],
   "source": [
    "# Popular Use\n",
    "# TOdo cleaning data\n",
    "kiva_loans_usage = kiva_loans[['use']].copy()\n",
    "\n",
    "drink_water = ['to buy a water filter to provide safe drinking water for their family.', 'to buy a water filter to provide safe drinking water for her family.', 'To buy a water filter to provide safe drinking water for their family.', 'to buy a water filter to provide safe drinking water for his family.']\n",
    "sanitary = ['to build a sanitary toilet for her family.', 'to build a sanitary toilet for her family']\n",
    "farm = ['to buy feed and other supplies to raise her pigs.', 'to buy fertilizers and other farm supplies.']\n",
    "business = ['to buy ingredients for her food production business', 'to purchase more groceries to sell.']\n",
    "\n",
    "def usage_loan(x):\n",
    "    \"\"\"Return purpose of loan usage\"\"\"\n",
    "    empty = ''\n",
    "    \n",
    "    if x in drink_water:\n",
    "        return 'Water Supply for family'\n",
    "    elif x in sanitary:\n",
    "        return 'Sanitary for family'\n",
    "    elif x in business:\n",
    "        return 'For Business Purpose'\n",
    "    elif x in farm:\n",
    "        return 'For Farm'\n",
    "    else:\n",
    "        return empty\n",
    "    \n",
    "kiva_loans_usage['use_2'] = kiva_loans_usage['use'].apply(usage_loan)\n",
    "    "
   ]
  },
  {
   "cell_type": "code",
   "execution_count": 314,
   "metadata": {},
   "outputs": [
    {
     "data": {
      "text/html": [
       "<div>\n",
       "<style scoped>\n",
       "    .dataframe tbody tr th:only-of-type {\n",
       "        vertical-align: middle;\n",
       "    }\n",
       "\n",
       "    .dataframe tbody tr th {\n",
       "        vertical-align: top;\n",
       "    }\n",
       "\n",
       "    .dataframe thead th {\n",
       "        text-align: right;\n",
       "    }\n",
       "</style>\n",
       "<table border=\"1\" class=\"dataframe\">\n",
       "  <thead>\n",
       "    <tr style=\"text-align: right;\">\n",
       "      <th>borrower_genders</th>\n",
       "      <th>female</th>\n",
       "      <th>group</th>\n",
       "      <th>male</th>\n",
       "      <th>All</th>\n",
       "    </tr>\n",
       "    <tr>\n",
       "      <th>sector</th>\n",
       "      <th></th>\n",
       "      <th></th>\n",
       "      <th></th>\n",
       "      <th></th>\n",
       "    </tr>\n",
       "  </thead>\n",
       "  <tbody>\n",
       "    <tr>\n",
       "      <th>Agriculture</th>\n",
       "      <td>99605</td>\n",
       "      <td>32565</td>\n",
       "      <td>48132</td>\n",
       "      <td>180302</td>\n",
       "    </tr>\n",
       "    <tr>\n",
       "      <th>Arts</th>\n",
       "      <td>8834</td>\n",
       "      <td>2003</td>\n",
       "      <td>1223</td>\n",
       "      <td>12060</td>\n",
       "    </tr>\n",
       "    <tr>\n",
       "      <th>Clothing</th>\n",
       "      <td>22795</td>\n",
       "      <td>7287</td>\n",
       "      <td>2660</td>\n",
       "      <td>32742</td>\n",
       "    </tr>\n",
       "    <tr>\n",
       "      <th>Construction</th>\n",
       "      <td>2488</td>\n",
       "      <td>669</td>\n",
       "      <td>3111</td>\n",
       "      <td>6268</td>\n",
       "    </tr>\n",
       "    <tr>\n",
       "      <th>Education</th>\n",
       "      <td>18024</td>\n",
       "      <td>1194</td>\n",
       "      <td>11795</td>\n",
       "      <td>31013</td>\n",
       "    </tr>\n",
       "    <tr>\n",
       "      <th>Entertainment</th>\n",
       "      <td>389</td>\n",
       "      <td>46</td>\n",
       "      <td>395</td>\n",
       "      <td>830</td>\n",
       "    </tr>\n",
       "    <tr>\n",
       "      <th>Food</th>\n",
       "      <td>98762</td>\n",
       "      <td>23482</td>\n",
       "      <td>14413</td>\n",
       "      <td>136657</td>\n",
       "    </tr>\n",
       "    <tr>\n",
       "      <th>Health</th>\n",
       "      <td>5262</td>\n",
       "      <td>1020</td>\n",
       "      <td>2941</td>\n",
       "      <td>9223</td>\n",
       "    </tr>\n",
       "    <tr>\n",
       "      <th>Housing</th>\n",
       "      <td>23024</td>\n",
       "      <td>2354</td>\n",
       "      <td>8353</td>\n",
       "      <td>33731</td>\n",
       "    </tr>\n",
       "    <tr>\n",
       "      <th>Manufacturing</th>\n",
       "      <td>3206</td>\n",
       "      <td>669</td>\n",
       "      <td>2333</td>\n",
       "      <td>6208</td>\n",
       "    </tr>\n",
       "    <tr>\n",
       "      <th>Personal Use</th>\n",
       "      <td>8834</td>\n",
       "      <td>19694</td>\n",
       "      <td>7857</td>\n",
       "      <td>36385</td>\n",
       "    </tr>\n",
       "    <tr>\n",
       "      <th>Retail</th>\n",
       "      <td>96533</td>\n",
       "      <td>13676</td>\n",
       "      <td>14285</td>\n",
       "      <td>124494</td>\n",
       "    </tr>\n",
       "    <tr>\n",
       "      <th>Services</th>\n",
       "      <td>30392</td>\n",
       "      <td>4695</td>\n",
       "      <td>10053</td>\n",
       "      <td>45140</td>\n",
       "    </tr>\n",
       "    <tr>\n",
       "      <th>Transportation</th>\n",
       "      <td>8046</td>\n",
       "      <td>578</td>\n",
       "      <td>6894</td>\n",
       "      <td>15518</td>\n",
       "    </tr>\n",
       "    <tr>\n",
       "      <th>Wholesale</th>\n",
       "      <td>308</td>\n",
       "      <td>61</td>\n",
       "      <td>265</td>\n",
       "      <td>634</td>\n",
       "    </tr>\n",
       "    <tr>\n",
       "      <th>All</th>\n",
       "      <td>426502</td>\n",
       "      <td>109993</td>\n",
       "      <td>134710</td>\n",
       "      <td>671205</td>\n",
       "    </tr>\n",
       "  </tbody>\n",
       "</table>\n",
       "</div>"
      ],
      "text/plain": [
       "borrower_genders  female   group    male     All\n",
       "sector                                          \n",
       "Agriculture        99605   32565   48132  180302\n",
       "Arts                8834    2003    1223   12060\n",
       "Clothing           22795    7287    2660   32742\n",
       "Construction        2488     669    3111    6268\n",
       "Education          18024    1194   11795   31013\n",
       "Entertainment        389      46     395     830\n",
       "Food               98762   23482   14413  136657\n",
       "Health              5262    1020    2941    9223\n",
       "Housing            23024    2354    8353   33731\n",
       "Manufacturing       3206     669    2333    6208\n",
       "Personal Use        8834   19694    7857   36385\n",
       "Retail             96533   13676   14285  124494\n",
       "Services           30392    4695   10053   45140\n",
       "Transportation      8046     578    6894   15518\n",
       "Wholesale            308      61     265     634\n",
       "All               426502  109993  134710  671205"
      ]
     },
     "execution_count": 314,
     "metadata": {},
     "output_type": "execute_result"
    }
   ],
   "source": [
    "#Cross tab withouth highlighting\n",
    "pd.crosstab(values=kiva_loans['loan_amount'], \n",
    "            columns=kiva_loans['borrower_genders'], \n",
    "            index=kiva_loans['sector'], \n",
    "            aggfunc='count', \n",
    "            margins=True, \n",
    "            )"
   ]
  },
  {
   "cell_type": "code",
   "execution_count": 326,
   "metadata": {},
   "outputs": [
    {
     "ename": "TypeError",
     "evalue": "__init__() got multiple values for argument 'row'",
     "output_type": "error",
     "traceback": [
      "\u001b[0;31m---------------------------------------------------------------------------\u001b[0m",
      "\u001b[0;31mTypeError\u001b[0m                                 Traceback (most recent call last)",
      "\u001b[0;32m<ipython-input-326-544d7cf49023>\u001b[0m in \u001b[0;36m<module>\u001b[0;34m\u001b[0m\n\u001b[0;32m----> 1\u001b[0;31m \u001b[0msns\u001b[0m\u001b[0;34m.\u001b[0m\u001b[0mFacetGrid\u001b[0m\u001b[0;34m(\u001b[0m\u001b[0;34m'sector'\u001b[0m\u001b[0;34m,\u001b[0m \u001b[0;34m'loan_amount'\u001b[0m\u001b[0;34m,\u001b[0m \u001b[0mrow\u001b[0m\u001b[0;34m=\u001b[0m\u001b[0;34m'borrower_genders'\u001b[0m\u001b[0;34m,\u001b[0m \u001b[0mdata\u001b[0m\u001b[0;34m=\u001b[0m\u001b[0mkiva_loans\u001b[0m\u001b[0;34m[\u001b[0m\u001b[0mkiva_loans\u001b[0m\u001b[0;34m[\u001b[0m\u001b[0;34m'loan_amount'\u001b[0m\u001b[0;34m]\u001b[0m \u001b[0;34m<=\u001b[0m \u001b[0;36m2000\u001b[0m\u001b[0;34m]\u001b[0m\u001b[0;34m)\u001b[0m\u001b[0;34m\u001b[0m\u001b[0;34m\u001b[0m\u001b[0m\n\u001b[0m",
      "\u001b[0;31mTypeError\u001b[0m: __init__() got multiple values for argument 'row'"
     ]
    }
   ],
   "source": [
    "\n",
    "sns.FacetGrid('sector', 'loan_amount', row='borrower_genders', data=kiva_loans[kiva_loans['loan_amount'] <= 2000])"
   ]
  },
  {
   "cell_type": "code",
   "execution_count": null,
   "metadata": {},
   "outputs": [],
   "source": [
    "# Borrower Gender\n",
    "kiva_loans.borrower_genders.isnull()\n",
    "# todo cleaning data"
   ]
  },
  {
   "cell_type": "code",
   "execution_count": null,
   "metadata": {},
   "outputs": [],
   "source": [
    "# Payment interval\n",
    "kiva_loans.repayment_interval.value_counts().nlargest(10).plot(kind='bar')"
   ]
  },
  {
   "cell_type": "markdown",
   "metadata": {},
   "source": [
    "## Loan Distribution by year"
   ]
  },
  {
   "cell_type": "code",
   "execution_count": null,
   "metadata": {},
   "outputs": [],
   "source": [
    "# creating year column\n",
    "kiva_loans.posted_time = pd.to_datetime(kiva_loans.posted_time)\n",
    "kiva_loans['year'] = kiva_loans.posted_time.dt.year\n",
    "year_count = kiva_loans.groupby('year').count()\n",
    "year_sum = kiva_loans.groupby('year').sum()"
   ]
  },
  {
   "cell_type": "code",
   "execution_count": null,
   "metadata": {},
   "outputs": [],
   "source": [
    "year_sum"
   ]
  },
  {
   "cell_type": "code",
   "execution_count": null,
   "metadata": {},
   "outputs": [],
   "source": [
    "# Plotting barcharts\n",
    "fig, ax = plt.subplots(1, 2, figsize=(15, 5))\n",
    "# ploting count by year\n",
    "sns.barplot(x=year_count.index, y='id', data=year_count, ax=ax[0])\n",
    "\n",
    "# plotting loans sum by year\n",
    "sns.barplot(x=year_sum.index, y='loan_amount', data=year_sum, ax=ax[1])"
   ]
  },
  {
   "cell_type": "markdown",
   "metadata": {},
   "source": [
    "# Data by country and continent"
   ]
  },
  {
   "cell_type": "code",
   "execution_count": null,
   "metadata": {},
   "outputs": [],
   "source": [
    "countries_loan = kiva_loans.groupby('country')['loan_amount'].sum().sort_values(ascending=False)"
   ]
  },
  {
   "cell_type": "code",
   "execution_count": null,
   "metadata": {},
   "outputs": [],
   "source": [
    "countries_loan\n",
    "East_Asia = []\n",
    "Central_asia= []\n",
    "North_America = []\n",
    "South_America = []\n",
    "Europe = []"
   ]
  },
  {
   "cell_type": "code",
   "execution_count": null,
   "metadata": {},
   "outputs": [],
   "source": [
    "kiva_loans.pivot_table(index='sector', columns='country', values='loan_amount', aggfunc=np.sum)"
   ]
  },
  {
   "cell_type": "markdown",
   "metadata": {},
   "source": [
    "# Poverty information by country"
   ]
  },
  {
   "cell_type": "markdown",
   "metadata": {},
   "source": [
    "## Table of contents"
   ]
  },
  {
   "cell_type": "code",
   "execution_count": null,
   "metadata": {},
   "outputs": [],
   "source": [
    "20 Multidimensional Poverty Measures\n",
    "20.1 MPI Rural\n",
    "20.2 MPI Urban\n",
    "20.3 MPI Map\n",
    "20.4 MPI Countries and Kiva Loans\n",
    "20.5 Use of loans and MPI\n",
    "20.6 Sectors of loans and MPI\n",
    "20.7 Distribution of the Funded Loan amount\n",
    "20.8 Poorest Regions\n",
    "21 Human Development Index\n",
    "21.1 Human Development Index Map\n",
    "22 Population below Poverty Line\n",
    "22.1 Population under Poverty Line Map\n",
    "23 Most Dominant Field Partner\n",
    "24 Naive Poverty Metric\n",
    "24.1 Distribution of the Naive Poverty Metric\n",
    "24.2 Poorest Countries based on Naive Poverty Metric"
   ]
  },
  {
   "cell_type": "code",
   "execution_count": 7,
   "metadata": {},
   "outputs": [
    {
     "ename": "KeyError",
     "evalue": "'hdi'",
     "output_type": "error",
     "traceback": [
      "\u001b[0;31m---------------------------------------------------------------------------\u001b[0m",
      "\u001b[0;31mKeyError\u001b[0m                                  Traceback (most recent call last)",
      "\u001b[0;32m<ipython-input-7-af25511a1457>\u001b[0m in \u001b[0;36m<module>\u001b[0;34m\u001b[0m\n\u001b[0;32m----> 1\u001b[0;31m \u001b[0mkiva_index\u001b[0m\u001b[0;34m.\u001b[0m\u001b[0msort_values\u001b[0m\u001b[0;34m(\u001b[0m\u001b[0mby\u001b[0m\u001b[0;34m=\u001b[0m\u001b[0;34m[\u001b[0m\u001b[0;34m'hdi'\u001b[0m\u001b[0;34m]\u001b[0m\u001b[0;34m,\u001b[0m \u001b[0mascending\u001b[0m\u001b[0;34m=\u001b[0m\u001b[0;32mFalse\u001b[0m\u001b[0;34m)\u001b[0m\u001b[0;34m\u001b[0m\u001b[0;34m\u001b[0m\u001b[0m\n\u001b[0m",
      "\u001b[0;32m/Library/Frameworks/Python.framework/Versions/3.8/lib/python3.8/site-packages/pandas/core/frame.py\u001b[0m in \u001b[0;36msort_values\u001b[0;34m(self, by, axis, ascending, inplace, kind, na_position)\u001b[0m\n\u001b[1;32m   5006\u001b[0m \u001b[0;34m\u001b[0m\u001b[0m\n\u001b[1;32m   5007\u001b[0m             \u001b[0mby\u001b[0m \u001b[0;34m=\u001b[0m \u001b[0mby\u001b[0m\u001b[0;34m[\u001b[0m\u001b[0;36m0\u001b[0m\u001b[0;34m]\u001b[0m\u001b[0;34m\u001b[0m\u001b[0;34m\u001b[0m\u001b[0m\n\u001b[0;32m-> 5008\u001b[0;31m             \u001b[0mk\u001b[0m \u001b[0;34m=\u001b[0m \u001b[0mself\u001b[0m\u001b[0;34m.\u001b[0m\u001b[0m_get_label_or_level_values\u001b[0m\u001b[0;34m(\u001b[0m\u001b[0mby\u001b[0m\u001b[0;34m,\u001b[0m \u001b[0maxis\u001b[0m\u001b[0;34m=\u001b[0m\u001b[0maxis\u001b[0m\u001b[0;34m)\u001b[0m\u001b[0;34m\u001b[0m\u001b[0;34m\u001b[0m\u001b[0m\n\u001b[0m\u001b[1;32m   5009\u001b[0m \u001b[0;34m\u001b[0m\u001b[0m\n\u001b[1;32m   5010\u001b[0m             \u001b[0;32mif\u001b[0m \u001b[0misinstance\u001b[0m\u001b[0;34m(\u001b[0m\u001b[0mascending\u001b[0m\u001b[0;34m,\u001b[0m \u001b[0;34m(\u001b[0m\u001b[0mtuple\u001b[0m\u001b[0;34m,\u001b[0m \u001b[0mlist\u001b[0m\u001b[0;34m)\u001b[0m\u001b[0;34m)\u001b[0m\u001b[0;34m:\u001b[0m\u001b[0;34m\u001b[0m\u001b[0;34m\u001b[0m\u001b[0m\n",
      "\u001b[0;32m/Library/Frameworks/Python.framework/Versions/3.8/lib/python3.8/site-packages/pandas/core/generic.py\u001b[0m in \u001b[0;36m_get_label_or_level_values\u001b[0;34m(self, key, axis)\u001b[0m\n\u001b[1;32m   1772\u001b[0m             \u001b[0mvalues\u001b[0m \u001b[0;34m=\u001b[0m \u001b[0mself\u001b[0m\u001b[0;34m.\u001b[0m\u001b[0maxes\u001b[0m\u001b[0;34m[\u001b[0m\u001b[0maxis\u001b[0m\u001b[0;34m]\u001b[0m\u001b[0;34m.\u001b[0m\u001b[0mget_level_values\u001b[0m\u001b[0;34m(\u001b[0m\u001b[0mkey\u001b[0m\u001b[0;34m)\u001b[0m\u001b[0;34m.\u001b[0m\u001b[0m_values\u001b[0m\u001b[0;34m\u001b[0m\u001b[0;34m\u001b[0m\u001b[0m\n\u001b[1;32m   1773\u001b[0m         \u001b[0;32melse\u001b[0m\u001b[0;34m:\u001b[0m\u001b[0;34m\u001b[0m\u001b[0;34m\u001b[0m\u001b[0m\n\u001b[0;32m-> 1774\u001b[0;31m             \u001b[0;32mraise\u001b[0m \u001b[0mKeyError\u001b[0m\u001b[0;34m(\u001b[0m\u001b[0mkey\u001b[0m\u001b[0;34m)\u001b[0m\u001b[0;34m\u001b[0m\u001b[0;34m\u001b[0m\u001b[0m\n\u001b[0m\u001b[1;32m   1775\u001b[0m \u001b[0;34m\u001b[0m\u001b[0m\n\u001b[1;32m   1776\u001b[0m         \u001b[0;31m# Check for duplicates\u001b[0m\u001b[0;34m\u001b[0m\u001b[0;34m\u001b[0m\u001b[0;34m\u001b[0m\u001b[0m\n",
      "\u001b[0;31mKeyError\u001b[0m: 'hdi'"
     ]
    }
   ],
   "source": [
    "kiva_index.sort_values(by=['hdi'], ascending=False)"
   ]
  },
  {
   "cell_type": "markdown",
   "metadata": {},
   "source": [
    "# Partner Information"
   ]
  },
  {
   "cell_type": "code",
   "execution_count": 8,
   "metadata": {},
   "outputs": [
    {
     "data": {
      "text/plain": [
       "Farming                      72955\n",
       "General Store                64729\n",
       "Personal Housing Expenses    32448\n",
       "Food Production/Sales        28106\n",
       "Agriculture                  27023\n",
       "                             ...  \n",
       "Film                            13\n",
       "Personal Care Products           7\n",
       "Celebrations                     5\n",
       "Event Planning                   5\n",
       "Adult Care                       2\n",
       "Name: activity, Length: 163, dtype: int64"
      ]
     },
     "execution_count": 8,
     "metadata": {},
     "output_type": "execute_result"
    }
   ],
   "source": []
  },
  {
   "cell_type": "code",
   "execution_count": null,
   "metadata": {},
   "outputs": [],
   "source": []
  }
 ],
 "metadata": {
  "kernelspec": {
   "display_name": "Python 3.8.0 64-bit",
   "language": "python",
   "name": "python38064bita3e2b9284fe241009277b40c2dcf841c"
  },
  "language_info": {
   "codemirror_mode": {
    "name": "ipython",
    "version": 3
   },
   "file_extension": ".py",
   "mimetype": "text/x-python",
   "name": "python",
   "nbconvert_exporter": "python",
   "pygments_lexer": "ipython3",
   "version": "3.8.0"
  },
  "toc-autonumbering": true,
  "toc-showcode": true,
  "toc-showmarkdowntxt": false,
  "toc-showtags": true
 },
 "nbformat": 4,
 "nbformat_minor": 4
}
