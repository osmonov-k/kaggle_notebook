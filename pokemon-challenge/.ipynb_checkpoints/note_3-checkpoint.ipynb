{
 "cells": [
  {
   "cell_type": "markdown",
   "metadata": {},
   "source": [
    "# Preliminary work"
   ]
  },
  {
   "cell_type": "code",
   "execution_count": 1,
   "metadata": {},
   "outputs": [],
   "source": [
    "# importing libraries\n",
    "\n",
    "import pandas as pd\n",
    "import numpy as np\n",
    "import missingno as msno\n",
    "import pandas_profiling\n",
    "\n",
    "import plotly.express\n",
    "import seaborn as sns\n",
    "import matplotlib.pyplot as plt\n",
    "\n",
    "import os\n",
    "from subprocess import check_output"
   ]
  },
  {
   "cell_type": "code",
   "execution_count": 2,
   "metadata": {},
   "outputs": [
    {
     "name": "stdout",
     "output_type": "stream",
     "text": [
      "Note_2.ipynb\n",
      "combats.csv\n",
      "note_1.ipynb\n",
      "note_3.ipynb\n",
      "pokemon.csv\n",
      "temp-plot.html\n",
      "tests.csv\n",
      "\n"
     ]
    }
   ],
   "source": [
    "print(check_output(['ls', '../pokemon-challenge']).decode('utf-8'))"
   ]
  },
  {
   "cell_type": "markdown",
   "metadata": {},
   "source": [
    "# Exploratory Data Analysis\n",
    "\n"
   ]
  },
  {
   "cell_type": "markdown",
   "metadata": {},
   "source": [
    "## Dtypes"
   ]
  },
  {
   "cell_type": "code",
   "execution_count": 3,
   "metadata": {},
   "outputs": [],
   "source": [
    "combats = pd.read_csv('combats.csv')"
   ]
  },
  {
   "cell_type": "code",
   "execution_count": 4,
   "metadata": {},
   "outputs": [],
   "source": [
    "pokemons = pd.read_csv('pokemon.csv')"
   ]
  },
  {
   "cell_type": "code",
   "execution_count": 5,
   "metadata": {},
   "outputs": [],
   "source": [
    "test = pd.read_csv('tests.csv')"
   ]
  },
  {
   "cell_type": "code",
   "execution_count": 6,
   "metadata": {},
   "outputs": [
    {
     "ename": "AttributeError",
     "evalue": "module 'pandas_profiling' has no attribute 'ReportData'",
     "output_type": "error",
     "traceback": [
      "\u001b[0;31m---------------------------------------------------------------------------\u001b[0m",
      "\u001b[0;31mAttributeError\u001b[0m                            Traceback (most recent call last)",
      "\u001b[0;32m<ipython-input-6-b39aeac96662>\u001b[0m in \u001b[0;36m<module>\u001b[0;34m\u001b[0m\n\u001b[0;32m----> 1\u001b[0;31m \u001b[0mpandas_profiling\u001b[0m\u001b[0;34m.\u001b[0m\u001b[0mReportData\u001b[0m\u001b[0;34m(\u001b[0m\u001b[0mpokemons\u001b[0m\u001b[0;34m)\u001b[0m\u001b[0;34m\u001b[0m\u001b[0;34m\u001b[0m\u001b[0m\n\u001b[0m",
      "\u001b[0;31mAttributeError\u001b[0m: module 'pandas_profiling' has no attribute 'ReportData'"
     ]
    }
   ],
   "source": [
    "pandas_profiling.ReportData(pokemons)"
   ]
  },
  {
   "cell_type": "code",
   "execution_count": null,
   "metadata": {},
   "outputs": [],
   "source": [
    "pandas_profiling.ProfileReport(pokemons)"
   ]
  },
  {
   "cell_type": "code",
   "execution_count": 7,
   "metadata": {},
   "outputs": [
    {
     "name": "stdout",
     "output_type": "stream",
     "text": [
      "<class 'pandas.core.frame.DataFrame'>\n",
      "RangeIndex: 800 entries, 0 to 799\n",
      "Data columns (total 12 columns):\n",
      "#             800 non-null int64\n",
      "Name          799 non-null object\n",
      "Type 1        800 non-null object\n",
      "Type 2        414 non-null object\n",
      "HP            800 non-null int64\n",
      "Attack        800 non-null int64\n",
      "Defense       800 non-null int64\n",
      "Sp. Atk       800 non-null int64\n",
      "Sp. Def       800 non-null int64\n",
      "Speed         800 non-null int64\n",
      "Generation    800 non-null int64\n",
      "Legendary     800 non-null bool\n",
      "dtypes: bool(1), int64(8), object(3)\n",
      "memory usage: 69.7+ KB\n"
     ]
    }
   ],
   "source": [
    "pokemons.info()"
   ]
  },
  {
   "cell_type": "code",
   "execution_count": 8,
   "metadata": {},
   "outputs": [
    {
     "data": {
      "text/html": [
       "<div>\n",
       "<style scoped>\n",
       "    .dataframe tbody tr th:only-of-type {\n",
       "        vertical-align: middle;\n",
       "    }\n",
       "\n",
       "    .dataframe tbody tr th {\n",
       "        vertical-align: top;\n",
       "    }\n",
       "\n",
       "    .dataframe thead th {\n",
       "        text-align: right;\n",
       "    }\n",
       "</style>\n",
       "<table border=\"1\" class=\"dataframe\">\n",
       "  <thead>\n",
       "    <tr style=\"text-align: right;\">\n",
       "      <th></th>\n",
       "      <th>#</th>\n",
       "      <th>HP</th>\n",
       "      <th>Attack</th>\n",
       "      <th>Defense</th>\n",
       "      <th>Sp. Atk</th>\n",
       "      <th>Sp. Def</th>\n",
       "      <th>Speed</th>\n",
       "      <th>Generation</th>\n",
       "    </tr>\n",
       "  </thead>\n",
       "  <tbody>\n",
       "    <tr>\n",
       "      <th>count</th>\n",
       "      <td>800.0000</td>\n",
       "      <td>800.000000</td>\n",
       "      <td>800.000000</td>\n",
       "      <td>800.000000</td>\n",
       "      <td>800.000000</td>\n",
       "      <td>800.000000</td>\n",
       "      <td>800.000000</td>\n",
       "      <td>800.00000</td>\n",
       "    </tr>\n",
       "    <tr>\n",
       "      <th>mean</th>\n",
       "      <td>400.5000</td>\n",
       "      <td>69.258750</td>\n",
       "      <td>79.001250</td>\n",
       "      <td>73.842500</td>\n",
       "      <td>72.820000</td>\n",
       "      <td>71.902500</td>\n",
       "      <td>68.277500</td>\n",
       "      <td>3.32375</td>\n",
       "    </tr>\n",
       "    <tr>\n",
       "      <th>std</th>\n",
       "      <td>231.0844</td>\n",
       "      <td>25.534669</td>\n",
       "      <td>32.457366</td>\n",
       "      <td>31.183501</td>\n",
       "      <td>32.722294</td>\n",
       "      <td>27.828916</td>\n",
       "      <td>29.060474</td>\n",
       "      <td>1.66129</td>\n",
       "    </tr>\n",
       "    <tr>\n",
       "      <th>min</th>\n",
       "      <td>1.0000</td>\n",
       "      <td>1.000000</td>\n",
       "      <td>5.000000</td>\n",
       "      <td>5.000000</td>\n",
       "      <td>10.000000</td>\n",
       "      <td>20.000000</td>\n",
       "      <td>5.000000</td>\n",
       "      <td>1.00000</td>\n",
       "    </tr>\n",
       "    <tr>\n",
       "      <th>25%</th>\n",
       "      <td>200.7500</td>\n",
       "      <td>50.000000</td>\n",
       "      <td>55.000000</td>\n",
       "      <td>50.000000</td>\n",
       "      <td>49.750000</td>\n",
       "      <td>50.000000</td>\n",
       "      <td>45.000000</td>\n",
       "      <td>2.00000</td>\n",
       "    </tr>\n",
       "    <tr>\n",
       "      <th>50%</th>\n",
       "      <td>400.5000</td>\n",
       "      <td>65.000000</td>\n",
       "      <td>75.000000</td>\n",
       "      <td>70.000000</td>\n",
       "      <td>65.000000</td>\n",
       "      <td>70.000000</td>\n",
       "      <td>65.000000</td>\n",
       "      <td>3.00000</td>\n",
       "    </tr>\n",
       "    <tr>\n",
       "      <th>75%</th>\n",
       "      <td>600.2500</td>\n",
       "      <td>80.000000</td>\n",
       "      <td>100.000000</td>\n",
       "      <td>90.000000</td>\n",
       "      <td>95.000000</td>\n",
       "      <td>90.000000</td>\n",
       "      <td>90.000000</td>\n",
       "      <td>5.00000</td>\n",
       "    </tr>\n",
       "    <tr>\n",
       "      <th>max</th>\n",
       "      <td>800.0000</td>\n",
       "      <td>255.000000</td>\n",
       "      <td>190.000000</td>\n",
       "      <td>230.000000</td>\n",
       "      <td>194.000000</td>\n",
       "      <td>230.000000</td>\n",
       "      <td>180.000000</td>\n",
       "      <td>6.00000</td>\n",
       "    </tr>\n",
       "  </tbody>\n",
       "</table>\n",
       "</div>"
      ],
      "text/plain": [
       "              #          HP      Attack     Defense     Sp. Atk     Sp. Def  \\\n",
       "count  800.0000  800.000000  800.000000  800.000000  800.000000  800.000000   \n",
       "mean   400.5000   69.258750   79.001250   73.842500   72.820000   71.902500   \n",
       "std    231.0844   25.534669   32.457366   31.183501   32.722294   27.828916   \n",
       "min      1.0000    1.000000    5.000000    5.000000   10.000000   20.000000   \n",
       "25%    200.7500   50.000000   55.000000   50.000000   49.750000   50.000000   \n",
       "50%    400.5000   65.000000   75.000000   70.000000   65.000000   70.000000   \n",
       "75%    600.2500   80.000000  100.000000   90.000000   95.000000   90.000000   \n",
       "max    800.0000  255.000000  190.000000  230.000000  194.000000  230.000000   \n",
       "\n",
       "            Speed  Generation  \n",
       "count  800.000000   800.00000  \n",
       "mean    68.277500     3.32375  \n",
       "std     29.060474     1.66129  \n",
       "min      5.000000     1.00000  \n",
       "25%     45.000000     2.00000  \n",
       "50%     65.000000     3.00000  \n",
       "75%     90.000000     5.00000  \n",
       "max    180.000000     6.00000  "
      ]
     },
     "execution_count": 8,
     "metadata": {},
     "output_type": "execute_result"
    }
   ],
   "source": [
    "pokemons.describe()"
   ]
  },
  {
   "cell_type": "code",
   "execution_count": 9,
   "metadata": {},
   "outputs": [
    {
     "data": {
      "text/plain": [
       "#              int64\n",
       "Name          object\n",
       "Type 1        object\n",
       "Type 2        object\n",
       "HP             int64\n",
       "Attack         int64\n",
       "Defense        int64\n",
       "Sp. Atk        int64\n",
       "Sp. Def        int64\n",
       "Speed          int64\n",
       "Generation     int64\n",
       "Legendary       bool\n",
       "dtype: object"
      ]
     },
     "execution_count": 9,
     "metadata": {},
     "output_type": "execute_result"
    }
   ],
   "source": [
    "pokemons.dtypes"
   ]
  },
  {
   "cell_type": "code",
   "execution_count": 10,
   "metadata": {},
   "outputs": [
    {
     "data": {
      "text/plain": [
       "#               0\n",
       "Name            1\n",
       "Type 1          0\n",
       "Type 2        386\n",
       "HP              0\n",
       "Attack          0\n",
       "Defense         0\n",
       "Sp. Atk         0\n",
       "Sp. Def         0\n",
       "Speed           0\n",
       "Generation      0\n",
       "Legendary       0\n",
       "dtype: int64"
      ]
     },
     "execution_count": 10,
     "metadata": {},
     "output_type": "execute_result"
    }
   ],
   "source": [
    "pokemons.isna().sum()"
   ]
  },
  {
   "cell_type": "code",
   "execution_count": 11,
   "metadata": {},
   "outputs": [
    {
     "data": {
      "text/html": [
       "<div>\n",
       "<style scoped>\n",
       "    .dataframe tbody tr th:only-of-type {\n",
       "        vertical-align: middle;\n",
       "    }\n",
       "\n",
       "    .dataframe tbody tr th {\n",
       "        vertical-align: top;\n",
       "    }\n",
       "\n",
       "    .dataframe thead th {\n",
       "        text-align: right;\n",
       "    }\n",
       "</style>\n",
       "<table border=\"1\" class=\"dataframe\">\n",
       "  <thead>\n",
       "    <tr style=\"text-align: right;\">\n",
       "      <th></th>\n",
       "      <th>#</th>\n",
       "      <th>Name</th>\n",
       "      <th>Type 1</th>\n",
       "      <th>Type 2</th>\n",
       "      <th>HP</th>\n",
       "      <th>Attack</th>\n",
       "      <th>Defense</th>\n",
       "      <th>Sp. Atk</th>\n",
       "      <th>Sp. Def</th>\n",
       "      <th>Speed</th>\n",
       "      <th>Generation</th>\n",
       "      <th>Legendary</th>\n",
       "    </tr>\n",
       "  </thead>\n",
       "  <tbody>\n",
       "    <tr>\n",
       "      <th>62</th>\n",
       "      <td>63</td>\n",
       "      <td>NaN</td>\n",
       "      <td>Fighting</td>\n",
       "      <td>NaN</td>\n",
       "      <td>65</td>\n",
       "      <td>105</td>\n",
       "      <td>60</td>\n",
       "      <td>60</td>\n",
       "      <td>70</td>\n",
       "      <td>95</td>\n",
       "      <td>1</td>\n",
       "      <td>False</td>\n",
       "    </tr>\n",
       "  </tbody>\n",
       "</table>\n",
       "</div>"
      ],
      "text/plain": [
       "     # Name    Type 1 Type 2  HP  Attack  Defense  Sp. Atk  Sp. Def  Speed  \\\n",
       "62  63  NaN  Fighting    NaN  65     105       60       60       70     95   \n",
       "\n",
       "    Generation  Legendary  \n",
       "62           1      False  "
      ]
     },
     "execution_count": 11,
     "metadata": {},
     "output_type": "execute_result"
    }
   ],
   "source": [
    "pokemons[pokemons['Name'].isna()] # missing pokemon"
   ]
  },
  {
   "cell_type": "markdown",
   "metadata": {},
   "source": [
    "Quick notes\n",
    "\n",
    "Missing values\n",
    "1. We have 386 missing values in type 2 columns due to absence of type 2. Not all pokemons have more than 1 type.\n",
    "\n",
    "2. In name column we have one missing pokemon\n",
    "\n",
    "3. We have 800 pokemons and 50 000 battles\n"
   ]
  },
  {
   "cell_type": "markdown",
   "metadata": {},
   "source": [
    "# EDA in depth"
   ]
  },
  {
   "cell_type": "markdown",
   "metadata": {},
   "source": [
    "## Missing values"
   ]
  },
  {
   "cell_type": "code",
   "execution_count": 12,
   "metadata": {},
   "outputs": [
    {
     "data": {
      "text/html": [
       "<div>\n",
       "<style scoped>\n",
       "    .dataframe tbody tr th:only-of-type {\n",
       "        vertical-align: middle;\n",
       "    }\n",
       "\n",
       "    .dataframe tbody tr th {\n",
       "        vertical-align: top;\n",
       "    }\n",
       "\n",
       "    .dataframe thead th {\n",
       "        text-align: right;\n",
       "    }\n",
       "</style>\n",
       "<table border=\"1\" class=\"dataframe\">\n",
       "  <thead>\n",
       "    <tr style=\"text-align: right;\">\n",
       "      <th></th>\n",
       "      <th>#</th>\n",
       "      <th>Name</th>\n",
       "      <th>Type 1</th>\n",
       "      <th>Type 2</th>\n",
       "      <th>HP</th>\n",
       "      <th>Attack</th>\n",
       "      <th>Defense</th>\n",
       "      <th>Sp. Atk</th>\n",
       "      <th>Sp. Def</th>\n",
       "      <th>Speed</th>\n",
       "      <th>Generation</th>\n",
       "      <th>Legendary</th>\n",
       "    </tr>\n",
       "  </thead>\n",
       "  <tbody>\n",
       "    <tr>\n",
       "      <th>62</th>\n",
       "      <td>63</td>\n",
       "      <td>NaN</td>\n",
       "      <td>Fighting</td>\n",
       "      <td>NaN</td>\n",
       "      <td>65</td>\n",
       "      <td>105</td>\n",
       "      <td>60</td>\n",
       "      <td>60</td>\n",
       "      <td>70</td>\n",
       "      <td>95</td>\n",
       "      <td>1</td>\n",
       "      <td>False</td>\n",
       "    </tr>\n",
       "  </tbody>\n",
       "</table>\n",
       "</div>"
      ],
      "text/plain": [
       "     # Name    Type 1 Type 2  HP  Attack  Defense  Sp. Atk  Sp. Def  Speed  \\\n",
       "62  63  NaN  Fighting    NaN  65     105       60       60       70     95   \n",
       "\n",
       "    Generation  Legendary  \n",
       "62           1      False  "
      ]
     },
     "execution_count": 12,
     "metadata": {},
     "output_type": "execute_result"
    }
   ],
   "source": [
    "pokemons[pokemons['Name'].isna()]"
   ]
  },
  {
   "cell_type": "code",
   "execution_count": 13,
   "metadata": {},
   "outputs": [
    {
     "data": {
      "text/html": [
       "<div>\n",
       "<style scoped>\n",
       "    .dataframe tbody tr th:only-of-type {\n",
       "        vertical-align: middle;\n",
       "    }\n",
       "\n",
       "    .dataframe tbody tr th {\n",
       "        vertical-align: top;\n",
       "    }\n",
       "\n",
       "    .dataframe thead th {\n",
       "        text-align: right;\n",
       "    }\n",
       "</style>\n",
       "<table border=\"1\" class=\"dataframe\">\n",
       "  <thead>\n",
       "    <tr style=\"text-align: right;\">\n",
       "      <th></th>\n",
       "      <th>#</th>\n",
       "      <th>Name</th>\n",
       "      <th>Type 1</th>\n",
       "      <th>Type 2</th>\n",
       "      <th>HP</th>\n",
       "      <th>Attack</th>\n",
       "      <th>Defense</th>\n",
       "      <th>Sp. Atk</th>\n",
       "      <th>Sp. Def</th>\n",
       "      <th>Speed</th>\n",
       "      <th>Generation</th>\n",
       "      <th>Legendary</th>\n",
       "    </tr>\n",
       "  </thead>\n",
       "  <tbody>\n",
       "    <tr>\n",
       "      <th>61</th>\n",
       "      <td>62</td>\n",
       "      <td>Mankey</td>\n",
       "      <td>Fighting</td>\n",
       "      <td>NaN</td>\n",
       "      <td>40</td>\n",
       "      <td>80</td>\n",
       "      <td>35</td>\n",
       "      <td>35</td>\n",
       "      <td>45</td>\n",
       "      <td>70</td>\n",
       "      <td>1</td>\n",
       "      <td>False</td>\n",
       "    </tr>\n",
       "    <tr>\n",
       "      <th>62</th>\n",
       "      <td>63</td>\n",
       "      <td>NaN</td>\n",
       "      <td>Fighting</td>\n",
       "      <td>NaN</td>\n",
       "      <td>65</td>\n",
       "      <td>105</td>\n",
       "      <td>60</td>\n",
       "      <td>60</td>\n",
       "      <td>70</td>\n",
       "      <td>95</td>\n",
       "      <td>1</td>\n",
       "      <td>False</td>\n",
       "    </tr>\n",
       "    <tr>\n",
       "      <th>63</th>\n",
       "      <td>64</td>\n",
       "      <td>Growlithe</td>\n",
       "      <td>Fire</td>\n",
       "      <td>NaN</td>\n",
       "      <td>55</td>\n",
       "      <td>70</td>\n",
       "      <td>45</td>\n",
       "      <td>70</td>\n",
       "      <td>50</td>\n",
       "      <td>60</td>\n",
       "      <td>1</td>\n",
       "      <td>False</td>\n",
       "    </tr>\n",
       "  </tbody>\n",
       "</table>\n",
       "</div>"
      ],
      "text/plain": [
       "     #       Name    Type 1 Type 2  HP  Attack  Defense  Sp. Atk  Sp. Def  \\\n",
       "61  62     Mankey  Fighting    NaN  40      80       35       35       45   \n",
       "62  63        NaN  Fighting    NaN  65     105       60       60       70   \n",
       "63  64  Growlithe      Fire    NaN  55      70       45       70       50   \n",
       "\n",
       "    Speed  Generation  Legendary  \n",
       "61     70           1      False  \n",
       "62     95           1      False  \n",
       "63     60           1      False  "
      ]
     },
     "execution_count": 13,
     "metadata": {},
     "output_type": "execute_result"
    }
   ],
   "source": [
    "pokemons.loc[61:63, ]"
   ]
  },
  {
   "cell_type": "code",
   "execution_count": 14,
   "metadata": {},
   "outputs": [],
   "source": [
    "# Inserting missing pokemon\n",
    "pokemons.loc[62, 'Name'] = 'Primeape'"
   ]
  },
  {
   "cell_type": "code",
   "execution_count": 15,
   "metadata": {},
   "outputs": [],
   "source": [
    "total_wins = combats['Winner'].value_counts()"
   ]
  },
  {
   "cell_type": "code",
   "execution_count": 16,
   "metadata": {},
   "outputs": [],
   "source": [
    "number_of_wins = combats.groupby('Winner').count()"
   ]
  },
  {
   "cell_type": "code",
   "execution_count": 17,
   "metadata": {},
   "outputs": [],
   "source": [
    "# both methods produce the same results"
   ]
  },
  {
   "cell_type": "code",
   "execution_count": 18,
   "metadata": {},
   "outputs": [],
   "source": [
    "countByFirst = combats.groupby('Second_pokemon').count()"
   ]
  },
  {
   "cell_type": "code",
   "execution_count": 19,
   "metadata": {},
   "outputs": [
    {
     "name": "stdout",
     "output_type": "stream",
     "text": [
      "Looking at the dimensions of our dataframes\n",
      "Count by first winner shape: (784, 2)\n",
      "Count by second winner shape: (784, 2)\n",
      "Total Wins shape : (783,)\n"
     ]
    }
   ],
   "source": [
    "countBySecond = combats.groupby('First_pokemon').count()\n",
    "print(\"Looking at the dimensions of our dataframes\")\n",
    "print(\"Count by first winner shape: \" + str(countByFirst.shape))\n",
    "print(\"Count by second winner shape: \" + str(countBySecond.shape))\n",
    "print(\"Total Wins shape : \" + str(total_wins.shape))"
   ]
  },
  {
   "cell_type": "code",
   "execution_count": 20,
   "metadata": {},
   "outputs": [],
   "source": [
    "find_losing_pokemon = np.setdiff1d(countByFirst.index.values, number_of_wins.index.values)-1"
   ]
  },
  {
   "cell_type": "code",
   "execution_count": 21,
   "metadata": {},
   "outputs": [
    {
     "data": {
      "text/html": [
       "<div>\n",
       "<style scoped>\n",
       "    .dataframe tbody tr th:only-of-type {\n",
       "        vertical-align: middle;\n",
       "    }\n",
       "\n",
       "    .dataframe tbody tr th {\n",
       "        vertical-align: top;\n",
       "    }\n",
       "\n",
       "    .dataframe thead th {\n",
       "        text-align: right;\n",
       "    }\n",
       "</style>\n",
       "<table border=\"1\" class=\"dataframe\">\n",
       "  <thead>\n",
       "    <tr style=\"text-align: right;\">\n",
       "      <th></th>\n",
       "      <th>#</th>\n",
       "      <th>Name</th>\n",
       "      <th>Type 1</th>\n",
       "      <th>Type 2</th>\n",
       "      <th>HP</th>\n",
       "      <th>Attack</th>\n",
       "      <th>Defense</th>\n",
       "      <th>Sp. Atk</th>\n",
       "      <th>Sp. Def</th>\n",
       "      <th>Speed</th>\n",
       "      <th>Generation</th>\n",
       "      <th>Legendary</th>\n",
       "    </tr>\n",
       "  </thead>\n",
       "  <tbody>\n",
       "    <tr>\n",
       "      <th>230</th>\n",
       "      <td>231</td>\n",
       "      <td>Shuckle</td>\n",
       "      <td>Bug</td>\n",
       "      <td>Rock</td>\n",
       "      <td>20</td>\n",
       "      <td>10</td>\n",
       "      <td>230</td>\n",
       "      <td>10</td>\n",
       "      <td>230</td>\n",
       "      <td>5</td>\n",
       "      <td>2</td>\n",
       "      <td>False</td>\n",
       "    </tr>\n",
       "  </tbody>\n",
       "</table>\n",
       "</div>"
      ],
      "text/plain": [
       "       #     Name Type 1 Type 2  HP  Attack  Defense  Sp. Atk  Sp. Def  Speed  \\\n",
       "230  231  Shuckle    Bug   Rock  20      10      230       10      230      5   \n",
       "\n",
       "     Generation  Legendary  \n",
       "230           2      False  "
      ]
     },
     "execution_count": 21,
     "metadata": {},
     "output_type": "execute_result"
    }
   ],
   "source": [
    "pokemons.loc[find_losing_pokemon]"
   ]
  },
  {
   "cell_type": "code",
   "execution_count": 22,
   "metadata": {},
   "outputs": [],
   "source": [
    "numberofwins = number_of_wins.sort_index()"
   ]
  },
  {
   "cell_type": "code",
   "execution_count": 23,
   "metadata": {},
   "outputs": [],
   "source": [
    "numberofwins['Total Fights'] = countByFirst['Winner'] + countBySecond['Winner']"
   ]
  },
  {
   "cell_type": "code",
   "execution_count": 24,
   "metadata": {},
   "outputs": [],
   "source": [
    "numberofwins['Win Percentage']= numberofwins.First_pokemon/numberofwins['Total Fights']\n"
   ]
  },
  {
   "cell_type": "code",
   "execution_count": 25,
   "metadata": {},
   "outputs": [],
   "source": [
    "# merge the winning dataset and the original pokemon dataset\n",
    "\n",
    "results2 = pd.merge(pokemons, numberofwins, right_index = True, left_on='#')"
   ]
  },
  {
   "cell_type": "code",
   "execution_count": 26,
   "metadata": {},
   "outputs": [],
   "source": [
    "results3 = pd.merge(pokemons, numberofwins, left_on='#', right_index = True, how='left')"
   ]
  },
  {
   "cell_type": "code",
   "execution_count": 27,
   "metadata": {},
   "outputs": [
    {
     "data": {
      "text/html": [
       "<div>\n",
       "<style scoped>\n",
       "    .dataframe tbody tr th:only-of-type {\n",
       "        vertical-align: middle;\n",
       "    }\n",
       "\n",
       "    .dataframe tbody tr th {\n",
       "        vertical-align: top;\n",
       "    }\n",
       "\n",
       "    .dataframe thead th {\n",
       "        text-align: right;\n",
       "    }\n",
       "</style>\n",
       "<table border=\"1\" class=\"dataframe\">\n",
       "  <thead>\n",
       "    <tr style=\"text-align: right;\">\n",
       "      <th></th>\n",
       "      <th>#</th>\n",
       "      <th>Name</th>\n",
       "      <th>Type 1</th>\n",
       "      <th>Type 2</th>\n",
       "      <th>HP</th>\n",
       "      <th>Attack</th>\n",
       "      <th>Defense</th>\n",
       "      <th>Sp. Atk</th>\n",
       "      <th>Sp. Def</th>\n",
       "      <th>Speed</th>\n",
       "      <th>Generation</th>\n",
       "      <th>Legendary</th>\n",
       "    </tr>\n",
       "  </thead>\n",
       "  <tbody>\n",
       "    <tr>\n",
       "      <th>11</th>\n",
       "      <td>12</td>\n",
       "      <td>Blastoise</td>\n",
       "      <td>Water</td>\n",
       "      <td>NaN</td>\n",
       "      <td>79</td>\n",
       "      <td>83</td>\n",
       "      <td>100</td>\n",
       "      <td>85</td>\n",
       "      <td>105</td>\n",
       "      <td>78</td>\n",
       "      <td>1</td>\n",
       "      <td>False</td>\n",
       "    </tr>\n",
       "    <tr>\n",
       "      <th>32</th>\n",
       "      <td>33</td>\n",
       "      <td>Sandshrew</td>\n",
       "      <td>Ground</td>\n",
       "      <td>NaN</td>\n",
       "      <td>50</td>\n",
       "      <td>75</td>\n",
       "      <td>85</td>\n",
       "      <td>20</td>\n",
       "      <td>30</td>\n",
       "      <td>40</td>\n",
       "      <td>1</td>\n",
       "      <td>False</td>\n",
       "    </tr>\n",
       "    <tr>\n",
       "      <th>45</th>\n",
       "      <td>46</td>\n",
       "      <td>Wigglytuff</td>\n",
       "      <td>Normal</td>\n",
       "      <td>Fairy</td>\n",
       "      <td>140</td>\n",
       "      <td>70</td>\n",
       "      <td>45</td>\n",
       "      <td>85</td>\n",
       "      <td>50</td>\n",
       "      <td>45</td>\n",
       "      <td>1</td>\n",
       "      <td>False</td>\n",
       "    </tr>\n",
       "    <tr>\n",
       "      <th>65</th>\n",
       "      <td>66</td>\n",
       "      <td>Poliwag</td>\n",
       "      <td>Water</td>\n",
       "      <td>NaN</td>\n",
       "      <td>40</td>\n",
       "      <td>50</td>\n",
       "      <td>40</td>\n",
       "      <td>40</td>\n",
       "      <td>40</td>\n",
       "      <td>90</td>\n",
       "      <td>1</td>\n",
       "      <td>False</td>\n",
       "    </tr>\n",
       "    <tr>\n",
       "      <th>77</th>\n",
       "      <td>78</td>\n",
       "      <td>Victreebel</td>\n",
       "      <td>Grass</td>\n",
       "      <td>Poison</td>\n",
       "      <td>80</td>\n",
       "      <td>105</td>\n",
       "      <td>65</td>\n",
       "      <td>100</td>\n",
       "      <td>70</td>\n",
       "      <td>70</td>\n",
       "      <td>1</td>\n",
       "      <td>False</td>\n",
       "    </tr>\n",
       "    <tr>\n",
       "      <th>89</th>\n",
       "      <td>90</td>\n",
       "      <td>Magneton</td>\n",
       "      <td>Electric</td>\n",
       "      <td>Steel</td>\n",
       "      <td>50</td>\n",
       "      <td>60</td>\n",
       "      <td>95</td>\n",
       "      <td>120</td>\n",
       "      <td>70</td>\n",
       "      <td>70</td>\n",
       "      <td>1</td>\n",
       "      <td>False</td>\n",
       "    </tr>\n",
       "    <tr>\n",
       "      <th>143</th>\n",
       "      <td>144</td>\n",
       "      <td>Ditto</td>\n",
       "      <td>Normal</td>\n",
       "      <td>NaN</td>\n",
       "      <td>48</td>\n",
       "      <td>48</td>\n",
       "      <td>48</td>\n",
       "      <td>48</td>\n",
       "      <td>48</td>\n",
       "      <td>48</td>\n",
       "      <td>1</td>\n",
       "      <td>False</td>\n",
       "    </tr>\n",
       "    <tr>\n",
       "      <th>182</th>\n",
       "      <td>183</td>\n",
       "      <td>Ariados</td>\n",
       "      <td>Bug</td>\n",
       "      <td>Poison</td>\n",
       "      <td>70</td>\n",
       "      <td>90</td>\n",
       "      <td>70</td>\n",
       "      <td>60</td>\n",
       "      <td>60</td>\n",
       "      <td>40</td>\n",
       "      <td>2</td>\n",
       "      <td>False</td>\n",
       "    </tr>\n",
       "    <tr>\n",
       "      <th>230</th>\n",
       "      <td>231</td>\n",
       "      <td>Shuckle</td>\n",
       "      <td>Bug</td>\n",
       "      <td>Rock</td>\n",
       "      <td>20</td>\n",
       "      <td>10</td>\n",
       "      <td>230</td>\n",
       "      <td>10</td>\n",
       "      <td>230</td>\n",
       "      <td>5</td>\n",
       "      <td>2</td>\n",
       "      <td>False</td>\n",
       "    </tr>\n",
       "    <tr>\n",
       "      <th>235</th>\n",
       "      <td>236</td>\n",
       "      <td>Ursaring</td>\n",
       "      <td>Normal</td>\n",
       "      <td>NaN</td>\n",
       "      <td>90</td>\n",
       "      <td>130</td>\n",
       "      <td>75</td>\n",
       "      <td>75</td>\n",
       "      <td>75</td>\n",
       "      <td>55</td>\n",
       "      <td>2</td>\n",
       "      <td>False</td>\n",
       "    </tr>\n",
       "    <tr>\n",
       "      <th>321</th>\n",
       "      <td>322</td>\n",
       "      <td>Hariyama</td>\n",
       "      <td>Fighting</td>\n",
       "      <td>NaN</td>\n",
       "      <td>144</td>\n",
       "      <td>120</td>\n",
       "      <td>60</td>\n",
       "      <td>40</td>\n",
       "      <td>60</td>\n",
       "      <td>50</td>\n",
       "      <td>3</td>\n",
       "      <td>False</td>\n",
       "    </tr>\n",
       "    <tr>\n",
       "      <th>418</th>\n",
       "      <td>419</td>\n",
       "      <td>Mega Latias</td>\n",
       "      <td>Dragon</td>\n",
       "      <td>Psychic</td>\n",
       "      <td>80</td>\n",
       "      <td>100</td>\n",
       "      <td>120</td>\n",
       "      <td>140</td>\n",
       "      <td>150</td>\n",
       "      <td>110</td>\n",
       "      <td>3</td>\n",
       "      <td>True</td>\n",
       "    </tr>\n",
       "    <tr>\n",
       "      <th>478</th>\n",
       "      <td>479</td>\n",
       "      <td>Honchkrow</td>\n",
       "      <td>Dark</td>\n",
       "      <td>Flying</td>\n",
       "      <td>100</td>\n",
       "      <td>125</td>\n",
       "      <td>52</td>\n",
       "      <td>105</td>\n",
       "      <td>52</td>\n",
       "      <td>71</td>\n",
       "      <td>4</td>\n",
       "      <td>False</td>\n",
       "    </tr>\n",
       "    <tr>\n",
       "      <th>555</th>\n",
       "      <td>556</td>\n",
       "      <td>Servine</td>\n",
       "      <td>Grass</td>\n",
       "      <td>NaN</td>\n",
       "      <td>60</td>\n",
       "      <td>60</td>\n",
       "      <td>75</td>\n",
       "      <td>60</td>\n",
       "      <td>75</td>\n",
       "      <td>83</td>\n",
       "      <td>5</td>\n",
       "      <td>False</td>\n",
       "    </tr>\n",
       "    <tr>\n",
       "      <th>617</th>\n",
       "      <td>618</td>\n",
       "      <td>Maractus</td>\n",
       "      <td>Grass</td>\n",
       "      <td>NaN</td>\n",
       "      <td>75</td>\n",
       "      <td>86</td>\n",
       "      <td>67</td>\n",
       "      <td>106</td>\n",
       "      <td>67</td>\n",
       "      <td>60</td>\n",
       "      <td>5</td>\n",
       "      <td>False</td>\n",
       "    </tr>\n",
       "    <tr>\n",
       "      <th>654</th>\n",
       "      <td>655</td>\n",
       "      <td>Jellicent</td>\n",
       "      <td>Water</td>\n",
       "      <td>Ghost</td>\n",
       "      <td>100</td>\n",
       "      <td>60</td>\n",
       "      <td>70</td>\n",
       "      <td>85</td>\n",
       "      <td>105</td>\n",
       "      <td>60</td>\n",
       "      <td>5</td>\n",
       "      <td>False</td>\n",
       "    </tr>\n",
       "    <tr>\n",
       "      <th>781</th>\n",
       "      <td>782</td>\n",
       "      <td>Pumpkaboo Small Size</td>\n",
       "      <td>Ghost</td>\n",
       "      <td>Grass</td>\n",
       "      <td>44</td>\n",
       "      <td>66</td>\n",
       "      <td>70</td>\n",
       "      <td>44</td>\n",
       "      <td>55</td>\n",
       "      <td>56</td>\n",
       "      <td>6</td>\n",
       "      <td>False</td>\n",
       "    </tr>\n",
       "  </tbody>\n",
       "</table>\n",
       "</div>"
      ],
      "text/plain": [
       "       #                  Name    Type 1   Type 2   HP  Attack  Defense  \\\n",
       "11    12             Blastoise     Water      NaN   79      83      100   \n",
       "32    33             Sandshrew    Ground      NaN   50      75       85   \n",
       "45    46            Wigglytuff    Normal    Fairy  140      70       45   \n",
       "65    66               Poliwag     Water      NaN   40      50       40   \n",
       "77    78            Victreebel     Grass   Poison   80     105       65   \n",
       "89    90              Magneton  Electric    Steel   50      60       95   \n",
       "143  144                 Ditto    Normal      NaN   48      48       48   \n",
       "182  183               Ariados       Bug   Poison   70      90       70   \n",
       "230  231               Shuckle       Bug     Rock   20      10      230   \n",
       "235  236              Ursaring    Normal      NaN   90     130       75   \n",
       "321  322              Hariyama  Fighting      NaN  144     120       60   \n",
       "418  419           Mega Latias    Dragon  Psychic   80     100      120   \n",
       "478  479             Honchkrow      Dark   Flying  100     125       52   \n",
       "555  556               Servine     Grass      NaN   60      60       75   \n",
       "617  618              Maractus     Grass      NaN   75      86       67   \n",
       "654  655             Jellicent     Water    Ghost  100      60       70   \n",
       "781  782  Pumpkaboo Small Size     Ghost    Grass   44      66       70   \n",
       "\n",
       "     Sp. Atk  Sp. Def  Speed  Generation  Legendary  \n",
       "11        85      105     78           1      False  \n",
       "32        20       30     40           1      False  \n",
       "45        85       50     45           1      False  \n",
       "65        40       40     90           1      False  \n",
       "77       100       70     70           1      False  \n",
       "89       120       70     70           1      False  \n",
       "143       48       48     48           1      False  \n",
       "182       60       60     40           2      False  \n",
       "230       10      230      5           2      False  \n",
       "235       75       75     55           2      False  \n",
       "321       40       60     50           3      False  \n",
       "418      140      150    110           3       True  \n",
       "478      105       52     71           4      False  \n",
       "555       60       75     83           5      False  \n",
       "617      106       67     60           5      False  \n",
       "654       85      105     60           5      False  \n",
       "781       44       55     56           6      False  "
      ]
     },
     "execution_count": 27,
     "metadata": {},
     "output_type": "execute_result"
    }
   ],
   "source": [
    "pokemons[results3['Win Percentage'].isnull()]"
   ]
  },
  {
   "cell_type": "code",
   "execution_count": 28,
   "metadata": {},
   "outputs": [
    {
     "data": {
      "text/html": [
       "<div>\n",
       "<style scoped>\n",
       "    .dataframe tbody tr th:only-of-type {\n",
       "        vertical-align: middle;\n",
       "    }\n",
       "\n",
       "    .dataframe tbody tr th {\n",
       "        vertical-align: top;\n",
       "    }\n",
       "\n",
       "    .dataframe thead th {\n",
       "        text-align: right;\n",
       "    }\n",
       "</style>\n",
       "<table border=\"1\" class=\"dataframe\">\n",
       "  <thead>\n",
       "    <tr style=\"text-align: right;\">\n",
       "      <th></th>\n",
       "      <th>#</th>\n",
       "      <th>Name</th>\n",
       "      <th>Type 1</th>\n",
       "      <th>Type 2</th>\n",
       "      <th>HP</th>\n",
       "      <th>Attack</th>\n",
       "      <th>Defense</th>\n",
       "      <th>Sp. Atk</th>\n",
       "      <th>Sp. Def</th>\n",
       "      <th>Speed</th>\n",
       "      <th>Generation</th>\n",
       "      <th>Legendary</th>\n",
       "      <th>First_pokemon</th>\n",
       "      <th>Second_pokemon</th>\n",
       "      <th>Total Fights</th>\n",
       "      <th>Win Percentage</th>\n",
       "    </tr>\n",
       "  </thead>\n",
       "  <tbody>\n",
       "    <tr>\n",
       "      <th>154</th>\n",
       "      <td>155</td>\n",
       "      <td>Mega Aerodactyl</td>\n",
       "      <td>Rock</td>\n",
       "      <td>Flying</td>\n",
       "      <td>80</td>\n",
       "      <td>135</td>\n",
       "      <td>85</td>\n",
       "      <td>70</td>\n",
       "      <td>95</td>\n",
       "      <td>150</td>\n",
       "      <td>1</td>\n",
       "      <td>False</td>\n",
       "      <td>127</td>\n",
       "      <td>127</td>\n",
       "      <td>129</td>\n",
       "      <td>0.984496</td>\n",
       "    </tr>\n",
       "    <tr>\n",
       "      <th>512</th>\n",
       "      <td>513</td>\n",
       "      <td>Weavile</td>\n",
       "      <td>Dark</td>\n",
       "      <td>Ice</td>\n",
       "      <td>70</td>\n",
       "      <td>120</td>\n",
       "      <td>65</td>\n",
       "      <td>45</td>\n",
       "      <td>85</td>\n",
       "      <td>125</td>\n",
       "      <td>4</td>\n",
       "      <td>False</td>\n",
       "      <td>116</td>\n",
       "      <td>116</td>\n",
       "      <td>119</td>\n",
       "      <td>0.974790</td>\n",
       "    </tr>\n",
       "    <tr>\n",
       "      <th>703</th>\n",
       "      <td>704</td>\n",
       "      <td>Tornadus Therian Forme</td>\n",
       "      <td>Flying</td>\n",
       "      <td>NaN</td>\n",
       "      <td>79</td>\n",
       "      <td>100</td>\n",
       "      <td>80</td>\n",
       "      <td>110</td>\n",
       "      <td>90</td>\n",
       "      <td>121</td>\n",
       "      <td>5</td>\n",
       "      <td>True</td>\n",
       "      <td>121</td>\n",
       "      <td>121</td>\n",
       "      <td>125</td>\n",
       "      <td>0.968000</td>\n",
       "    </tr>\n",
       "    <tr>\n",
       "      <th>19</th>\n",
       "      <td>20</td>\n",
       "      <td>Mega Beedrill</td>\n",
       "      <td>Bug</td>\n",
       "      <td>Poison</td>\n",
       "      <td>65</td>\n",
       "      <td>150</td>\n",
       "      <td>40</td>\n",
       "      <td>15</td>\n",
       "      <td>80</td>\n",
       "      <td>145</td>\n",
       "      <td>1</td>\n",
       "      <td>False</td>\n",
       "      <td>115</td>\n",
       "      <td>115</td>\n",
       "      <td>119</td>\n",
       "      <td>0.966387</td>\n",
       "    </tr>\n",
       "    <tr>\n",
       "      <th>153</th>\n",
       "      <td>154</td>\n",
       "      <td>Aerodactyl</td>\n",
       "      <td>Rock</td>\n",
       "      <td>Flying</td>\n",
       "      <td>80</td>\n",
       "      <td>105</td>\n",
       "      <td>65</td>\n",
       "      <td>60</td>\n",
       "      <td>75</td>\n",
       "      <td>130</td>\n",
       "      <td>1</td>\n",
       "      <td>False</td>\n",
       "      <td>136</td>\n",
       "      <td>136</td>\n",
       "      <td>141</td>\n",
       "      <td>0.964539</td>\n",
       "    </tr>\n",
       "    <tr>\n",
       "      <th>476</th>\n",
       "      <td>477</td>\n",
       "      <td>Mega Lopunny</td>\n",
       "      <td>Normal</td>\n",
       "      <td>Fighting</td>\n",
       "      <td>65</td>\n",
       "      <td>136</td>\n",
       "      <td>94</td>\n",
       "      <td>54</td>\n",
       "      <td>96</td>\n",
       "      <td>135</td>\n",
       "      <td>4</td>\n",
       "      <td>False</td>\n",
       "      <td>124</td>\n",
       "      <td>124</td>\n",
       "      <td>129</td>\n",
       "      <td>0.961240</td>\n",
       "    </tr>\n",
       "    <tr>\n",
       "      <th>726</th>\n",
       "      <td>727</td>\n",
       "      <td>Greninja</td>\n",
       "      <td>Water</td>\n",
       "      <td>Dark</td>\n",
       "      <td>72</td>\n",
       "      <td>95</td>\n",
       "      <td>67</td>\n",
       "      <td>103</td>\n",
       "      <td>71</td>\n",
       "      <td>122</td>\n",
       "      <td>6</td>\n",
       "      <td>False</td>\n",
       "      <td>122</td>\n",
       "      <td>122</td>\n",
       "      <td>127</td>\n",
       "      <td>0.960630</td>\n",
       "    </tr>\n",
       "    <tr>\n",
       "      <th>716</th>\n",
       "      <td>717</td>\n",
       "      <td>Meloetta Pirouette Forme</td>\n",
       "      <td>Normal</td>\n",
       "      <td>Fighting</td>\n",
       "      <td>100</td>\n",
       "      <td>128</td>\n",
       "      <td>90</td>\n",
       "      <td>77</td>\n",
       "      <td>77</td>\n",
       "      <td>128</td>\n",
       "      <td>5</td>\n",
       "      <td>False</td>\n",
       "      <td>118</td>\n",
       "      <td>118</td>\n",
       "      <td>123</td>\n",
       "      <td>0.959350</td>\n",
       "    </tr>\n",
       "    <tr>\n",
       "      <th>164</th>\n",
       "      <td>165</td>\n",
       "      <td>Mega Mewtwo Y</td>\n",
       "      <td>Psychic</td>\n",
       "      <td>NaN</td>\n",
       "      <td>106</td>\n",
       "      <td>150</td>\n",
       "      <td>70</td>\n",
       "      <td>194</td>\n",
       "      <td>120</td>\n",
       "      <td>140</td>\n",
       "      <td>1</td>\n",
       "      <td>True</td>\n",
       "      <td>119</td>\n",
       "      <td>119</td>\n",
       "      <td>125</td>\n",
       "      <td>0.952000</td>\n",
       "    </tr>\n",
       "    <tr>\n",
       "      <th>349</th>\n",
       "      <td>350</td>\n",
       "      <td>Mega Sharpedo</td>\n",
       "      <td>Water</td>\n",
       "      <td>Dark</td>\n",
       "      <td>70</td>\n",
       "      <td>140</td>\n",
       "      <td>70</td>\n",
       "      <td>110</td>\n",
       "      <td>65</td>\n",
       "      <td>105</td>\n",
       "      <td>3</td>\n",
       "      <td>False</td>\n",
       "      <td>114</td>\n",
       "      <td>114</td>\n",
       "      <td>120</td>\n",
       "      <td>0.950000</td>\n",
       "    </tr>\n",
       "  </tbody>\n",
       "</table>\n",
       "</div>"
      ],
      "text/plain": [
       "       #                      Name   Type 1    Type 2   HP  Attack  Defense  \\\n",
       "154  155           Mega Aerodactyl     Rock    Flying   80     135       85   \n",
       "512  513                   Weavile     Dark       Ice   70     120       65   \n",
       "703  704    Tornadus Therian Forme   Flying       NaN   79     100       80   \n",
       "19    20             Mega Beedrill      Bug    Poison   65     150       40   \n",
       "153  154                Aerodactyl     Rock    Flying   80     105       65   \n",
       "476  477              Mega Lopunny   Normal  Fighting   65     136       94   \n",
       "726  727                  Greninja    Water      Dark   72      95       67   \n",
       "716  717  Meloetta Pirouette Forme   Normal  Fighting  100     128       90   \n",
       "164  165             Mega Mewtwo Y  Psychic       NaN  106     150       70   \n",
       "349  350             Mega Sharpedo    Water      Dark   70     140       70   \n",
       "\n",
       "     Sp. Atk  Sp. Def  Speed  Generation  Legendary  First_pokemon  \\\n",
       "154       70       95    150           1      False            127   \n",
       "512       45       85    125           4      False            116   \n",
       "703      110       90    121           5       True            121   \n",
       "19        15       80    145           1      False            115   \n",
       "153       60       75    130           1      False            136   \n",
       "476       54       96    135           4      False            124   \n",
       "726      103       71    122           6      False            122   \n",
       "716       77       77    128           5      False            118   \n",
       "164      194      120    140           1       True            119   \n",
       "349      110       65    105           3      False            114   \n",
       "\n",
       "     Second_pokemon  Total Fights  Win Percentage  \n",
       "154             127           129        0.984496  \n",
       "512             116           119        0.974790  \n",
       "703             121           125        0.968000  \n",
       "19              115           119        0.966387  \n",
       "153             136           141        0.964539  \n",
       "476             124           129        0.961240  \n",
       "726             122           127        0.960630  \n",
       "716             118           123        0.959350  \n",
       "164             119           125        0.952000  \n",
       "349             114           120        0.950000  "
      ]
     },
     "execution_count": 28,
     "metadata": {},
     "output_type": "execute_result"
    }
   ],
   "source": [
    "# pokemons with the highest win percentage\n",
    "\n",
    "results2.sort_values(by='Win Percentage').nlargest(10, columns='Win Percentage')"
   ]
  },
  {
   "cell_type": "code",
   "execution_count": 29,
   "metadata": {},
   "outputs": [
    {
     "data": {
      "text/html": [
       "<div>\n",
       "<style scoped>\n",
       "    .dataframe tbody tr th:only-of-type {\n",
       "        vertical-align: middle;\n",
       "    }\n",
       "\n",
       "    .dataframe tbody tr th {\n",
       "        vertical-align: top;\n",
       "    }\n",
       "\n",
       "    .dataframe thead th {\n",
       "        text-align: right;\n",
       "    }\n",
       "</style>\n",
       "<table border=\"1\" class=\"dataframe\">\n",
       "  <thead>\n",
       "    <tr style=\"text-align: right;\">\n",
       "      <th></th>\n",
       "      <th>#</th>\n",
       "      <th>Name</th>\n",
       "      <th>Type 1</th>\n",
       "      <th>Type 2</th>\n",
       "      <th>HP</th>\n",
       "      <th>Attack</th>\n",
       "      <th>Defense</th>\n",
       "      <th>Sp. Atk</th>\n",
       "      <th>Sp. Def</th>\n",
       "      <th>Speed</th>\n",
       "      <th>Generation</th>\n",
       "      <th>Legendary</th>\n",
       "      <th>First_pokemon</th>\n",
       "      <th>Second_pokemon</th>\n",
       "      <th>Total Fights</th>\n",
       "      <th>Win Percentage</th>\n",
       "    </tr>\n",
       "  </thead>\n",
       "  <tbody>\n",
       "    <tr>\n",
       "      <th>289</th>\n",
       "      <td>290</td>\n",
       "      <td>Silcoon</td>\n",
       "      <td>Bug</td>\n",
       "      <td>NaN</td>\n",
       "      <td>50</td>\n",
       "      <td>35</td>\n",
       "      <td>55</td>\n",
       "      <td>25</td>\n",
       "      <td>25</td>\n",
       "      <td>15</td>\n",
       "      <td>3</td>\n",
       "      <td>False</td>\n",
       "      <td>3</td>\n",
       "      <td>3</td>\n",
       "      <td>138</td>\n",
       "      <td>0.021739</td>\n",
       "    </tr>\n",
       "    <tr>\n",
       "      <th>189</th>\n",
       "      <td>190</td>\n",
       "      <td>Togepi</td>\n",
       "      <td>Fairy</td>\n",
       "      <td>NaN</td>\n",
       "      <td>35</td>\n",
       "      <td>20</td>\n",
       "      <td>65</td>\n",
       "      <td>40</td>\n",
       "      <td>65</td>\n",
       "      <td>20</td>\n",
       "      <td>2</td>\n",
       "      <td>False</td>\n",
       "      <td>3</td>\n",
       "      <td>3</td>\n",
       "      <td>122</td>\n",
       "      <td>0.024590</td>\n",
       "    </tr>\n",
       "    <tr>\n",
       "      <th>638</th>\n",
       "      <td>639</td>\n",
       "      <td>Solosis</td>\n",
       "      <td>Psychic</td>\n",
       "      <td>NaN</td>\n",
       "      <td>45</td>\n",
       "      <td>30</td>\n",
       "      <td>40</td>\n",
       "      <td>105</td>\n",
       "      <td>50</td>\n",
       "      <td>20</td>\n",
       "      <td>5</td>\n",
       "      <td>False</td>\n",
       "      <td>4</td>\n",
       "      <td>4</td>\n",
       "      <td>129</td>\n",
       "      <td>0.031008</td>\n",
       "    </tr>\n",
       "    <tr>\n",
       "      <th>236</th>\n",
       "      <td>237</td>\n",
       "      <td>Slugma</td>\n",
       "      <td>Fire</td>\n",
       "      <td>NaN</td>\n",
       "      <td>40</td>\n",
       "      <td>40</td>\n",
       "      <td>40</td>\n",
       "      <td>70</td>\n",
       "      <td>40</td>\n",
       "      <td>20</td>\n",
       "      <td>2</td>\n",
       "      <td>False</td>\n",
       "      <td>4</td>\n",
       "      <td>4</td>\n",
       "      <td>123</td>\n",
       "      <td>0.032520</td>\n",
       "    </tr>\n",
       "    <tr>\n",
       "      <th>576</th>\n",
       "      <td>577</td>\n",
       "      <td>Munna</td>\n",
       "      <td>Psychic</td>\n",
       "      <td>NaN</td>\n",
       "      <td>76</td>\n",
       "      <td>25</td>\n",
       "      <td>45</td>\n",
       "      <td>67</td>\n",
       "      <td>55</td>\n",
       "      <td>24</td>\n",
       "      <td>5</td>\n",
       "      <td>False</td>\n",
       "      <td>5</td>\n",
       "      <td>5</td>\n",
       "      <td>128</td>\n",
       "      <td>0.039062</td>\n",
       "    </tr>\n",
       "    <tr>\n",
       "      <th>188</th>\n",
       "      <td>189</td>\n",
       "      <td>Igglybuff</td>\n",
       "      <td>Normal</td>\n",
       "      <td>Fairy</td>\n",
       "      <td>90</td>\n",
       "      <td>30</td>\n",
       "      <td>15</td>\n",
       "      <td>40</td>\n",
       "      <td>20</td>\n",
       "      <td>15</td>\n",
       "      <td>2</td>\n",
       "      <td>False</td>\n",
       "      <td>5</td>\n",
       "      <td>5</td>\n",
       "      <td>115</td>\n",
       "      <td>0.043478</td>\n",
       "    </tr>\n",
       "    <tr>\n",
       "      <th>394</th>\n",
       "      <td>395</td>\n",
       "      <td>Wynaut</td>\n",
       "      <td>Psychic</td>\n",
       "      <td>NaN</td>\n",
       "      <td>95</td>\n",
       "      <td>23</td>\n",
       "      <td>48</td>\n",
       "      <td>23</td>\n",
       "      <td>48</td>\n",
       "      <td>23</td>\n",
       "      <td>3</td>\n",
       "      <td>False</td>\n",
       "      <td>6</td>\n",
       "      <td>6</td>\n",
       "      <td>130</td>\n",
       "      <td>0.046154</td>\n",
       "    </tr>\n",
       "    <tr>\n",
       "      <th>209</th>\n",
       "      <td>210</td>\n",
       "      <td>Wooper</td>\n",
       "      <td>Water</td>\n",
       "      <td>Ground</td>\n",
       "      <td>55</td>\n",
       "      <td>45</td>\n",
       "      <td>45</td>\n",
       "      <td>25</td>\n",
       "      <td>25</td>\n",
       "      <td>15</td>\n",
       "      <td>2</td>\n",
       "      <td>False</td>\n",
       "      <td>6</td>\n",
       "      <td>6</td>\n",
       "      <td>125</td>\n",
       "      <td>0.048000</td>\n",
       "    </tr>\n",
       "    <tr>\n",
       "      <th>291</th>\n",
       "      <td>292</td>\n",
       "      <td>Cascoon</td>\n",
       "      <td>Bug</td>\n",
       "      <td>NaN</td>\n",
       "      <td>50</td>\n",
       "      <td>35</td>\n",
       "      <td>55</td>\n",
       "      <td>25</td>\n",
       "      <td>25</td>\n",
       "      <td>15</td>\n",
       "      <td>3</td>\n",
       "      <td>False</td>\n",
       "      <td>7</td>\n",
       "      <td>7</td>\n",
       "      <td>133</td>\n",
       "      <td>0.052632</td>\n",
       "    </tr>\n",
       "    <tr>\n",
       "      <th>752</th>\n",
       "      <td>753</td>\n",
       "      <td>Spritzee</td>\n",
       "      <td>Fairy</td>\n",
       "      <td>NaN</td>\n",
       "      <td>78</td>\n",
       "      <td>52</td>\n",
       "      <td>60</td>\n",
       "      <td>63</td>\n",
       "      <td>65</td>\n",
       "      <td>23</td>\n",
       "      <td>6</td>\n",
       "      <td>False</td>\n",
       "      <td>8</td>\n",
       "      <td>8</td>\n",
       "      <td>133</td>\n",
       "      <td>0.060150</td>\n",
       "    </tr>\n",
       "  </tbody>\n",
       "</table>\n",
       "</div>"
      ],
      "text/plain": [
       "       #       Name   Type 1  Type 2  HP  Attack  Defense  Sp. Atk  Sp. Def  \\\n",
       "289  290    Silcoon      Bug     NaN  50      35       55       25       25   \n",
       "189  190     Togepi    Fairy     NaN  35      20       65       40       65   \n",
       "638  639    Solosis  Psychic     NaN  45      30       40      105       50   \n",
       "236  237     Slugma     Fire     NaN  40      40       40       70       40   \n",
       "576  577      Munna  Psychic     NaN  76      25       45       67       55   \n",
       "188  189  Igglybuff   Normal   Fairy  90      30       15       40       20   \n",
       "394  395     Wynaut  Psychic     NaN  95      23       48       23       48   \n",
       "209  210     Wooper    Water  Ground  55      45       45       25       25   \n",
       "291  292    Cascoon      Bug     NaN  50      35       55       25       25   \n",
       "752  753   Spritzee    Fairy     NaN  78      52       60       63       65   \n",
       "\n",
       "     Speed  Generation  Legendary  First_pokemon  Second_pokemon  \\\n",
       "289     15           3      False              3               3   \n",
       "189     20           2      False              3               3   \n",
       "638     20           5      False              4               4   \n",
       "236     20           2      False              4               4   \n",
       "576     24           5      False              5               5   \n",
       "188     15           2      False              5               5   \n",
       "394     23           3      False              6               6   \n",
       "209     15           2      False              6               6   \n",
       "291     15           3      False              7               7   \n",
       "752     23           6      False              8               8   \n",
       "\n",
       "     Total Fights  Win Percentage  \n",
       "289           138        0.021739  \n",
       "189           122        0.024590  \n",
       "638           129        0.031008  \n",
       "236           123        0.032520  \n",
       "576           128        0.039062  \n",
       "188           115        0.043478  \n",
       "394           130        0.046154  \n",
       "209           125        0.048000  \n",
       "291           133        0.052632  \n",
       "752           133        0.060150  "
      ]
     },
     "execution_count": 29,
     "metadata": {},
     "output_type": "execute_result"
    }
   ],
   "source": [
    "# pokemons with lowest win percentage rate\n",
    "\n",
    "results2.sort_values(by='Win Percentage').nsmallest(10, columns='Win Percentage')"
   ]
  },
  {
   "cell_type": "markdown",
   "metadata": {},
   "source": [
    "# Visualization with Plotly"
   ]
  },
  {
   "cell_type": "code",
   "execution_count": 30,
   "metadata": {},
   "outputs": [
    {
     "ename": "ValueError",
     "evalue": "Value of 'y' is not the name of a column in 'data_frame'. Expected one of ['#', 'Name', 'Type 1', 'Type 2', 'HP', 'Attack', 'Defense', 'Sp. Atk', 'Sp. Def', 'Speed', 'Generation', 'Legendary', 'First_pokemon', 'Second_pokemon', 'Total Fights', 'Win Percentage'] but received: total_bill",
     "output_type": "error",
     "traceback": [
      "\u001b[0;31m---------------------------------------------------------------------------\u001b[0m",
      "\u001b[0;31mValueError\u001b[0m                                Traceback (most recent call last)",
      "\u001b[0;32m<ipython-input-30-411522ce9ed7>\u001b[0m in \u001b[0;36m<module>\u001b[0;34m\u001b[0m\n\u001b[1;32m      3\u001b[0m \u001b[0;32mimport\u001b[0m \u001b[0mplotly\u001b[0m\u001b[0;34m.\u001b[0m\u001b[0mexpress\u001b[0m \u001b[0;32mas\u001b[0m \u001b[0mpx\u001b[0m\u001b[0;34m\u001b[0m\u001b[0;34m\u001b[0m\u001b[0m\n\u001b[1;32m      4\u001b[0m \u001b[0;34m\u001b[0m\u001b[0m\n\u001b[0;32m----> 5\u001b[0;31m fig = px.bar(results2, x=\"Type 1\", y=\"total_bill\", color='Legendary', barmode='group',\n\u001b[0m\u001b[1;32m      6\u001b[0m              height=400)\n\u001b[1;32m      7\u001b[0m \u001b[0mfig\u001b[0m\u001b[0;34m.\u001b[0m\u001b[0mshow\u001b[0m\u001b[0;34m(\u001b[0m\u001b[0;34m)\u001b[0m\u001b[0;34m\u001b[0m\u001b[0;34m\u001b[0m\u001b[0m\n",
      "\u001b[0;32m/Library/Frameworks/Python.framework/Versions/3.8/lib/python3.8/site-packages/plotly/express/_chart_types.py\u001b[0m in \u001b[0;36mbar\u001b[0;34m(data_frame, x, y, color, facet_row, facet_col, facet_col_wrap, hover_name, hover_data, custom_data, text, error_x, error_x_minus, error_y, error_y_minus, animation_frame, animation_group, category_orders, labels, color_discrete_sequence, color_discrete_map, color_continuous_scale, range_color, color_continuous_midpoint, opacity, orientation, barmode, log_x, log_y, range_x, range_y, title, template, width, height)\u001b[0m\n\u001b[1;32m    307\u001b[0m     \u001b[0mmark\u001b[0m\u001b[0;34m.\u001b[0m\u001b[0;34m\u001b[0m\u001b[0;34m\u001b[0m\u001b[0m\n\u001b[1;32m    308\u001b[0m     \"\"\"\n\u001b[0;32m--> 309\u001b[0;31m     return make_figure(\n\u001b[0m\u001b[1;32m    310\u001b[0m         \u001b[0margs\u001b[0m\u001b[0;34m=\u001b[0m\u001b[0mlocals\u001b[0m\u001b[0;34m(\u001b[0m\u001b[0;34m)\u001b[0m\u001b[0;34m,\u001b[0m\u001b[0;34m\u001b[0m\u001b[0;34m\u001b[0m\u001b[0m\n\u001b[1;32m    311\u001b[0m         \u001b[0mconstructor\u001b[0m\u001b[0;34m=\u001b[0m\u001b[0mgo\u001b[0m\u001b[0;34m.\u001b[0m\u001b[0mBar\u001b[0m\u001b[0;34m,\u001b[0m\u001b[0;34m\u001b[0m\u001b[0;34m\u001b[0m\u001b[0m\n",
      "\u001b[0;32m/Library/Frameworks/Python.framework/Versions/3.8/lib/python3.8/site-packages/plotly/express/_core.py\u001b[0m in \u001b[0;36mmake_figure\u001b[0;34m(args, constructor, trace_patch, layout_patch)\u001b[0m\n\u001b[1;32m   1357\u001b[0m     \u001b[0mapply_default_cascade\u001b[0m\u001b[0;34m(\u001b[0m\u001b[0margs\u001b[0m\u001b[0;34m)\u001b[0m\u001b[0;34m\u001b[0m\u001b[0;34m\u001b[0m\u001b[0m\n\u001b[1;32m   1358\u001b[0m \u001b[0;34m\u001b[0m\u001b[0m\n\u001b[0;32m-> 1359\u001b[0;31m     args, trace_specs, grouped_mappings, sizeref, show_colorbar = infer_config(\n\u001b[0m\u001b[1;32m   1360\u001b[0m         \u001b[0margs\u001b[0m\u001b[0;34m,\u001b[0m \u001b[0mconstructor\u001b[0m\u001b[0;34m,\u001b[0m \u001b[0mtrace_patch\u001b[0m\u001b[0;34m\u001b[0m\u001b[0;34m\u001b[0m\u001b[0m\n\u001b[1;32m   1361\u001b[0m     )\n",
      "\u001b[0;32m/Library/Frameworks/Python.framework/Versions/3.8/lib/python3.8/site-packages/plotly/express/_core.py\u001b[0m in \u001b[0;36minfer_config\u001b[0;34m(args, constructor, trace_patch)\u001b[0m\n\u001b[1;32m   1203\u001b[0m             \u001b[0mall_attrables\u001b[0m \u001b[0;34m+=\u001b[0m \u001b[0;34m[\u001b[0m\u001b[0mgroup_attr\u001b[0m\u001b[0;34m]\u001b[0m\u001b[0;34m\u001b[0m\u001b[0;34m\u001b[0m\u001b[0m\n\u001b[1;32m   1204\u001b[0m \u001b[0;34m\u001b[0m\u001b[0m\n\u001b[0;32m-> 1205\u001b[0;31m     \u001b[0margs\u001b[0m \u001b[0;34m=\u001b[0m \u001b[0mbuild_dataframe\u001b[0m\u001b[0;34m(\u001b[0m\u001b[0margs\u001b[0m\u001b[0;34m,\u001b[0m \u001b[0mall_attrables\u001b[0m\u001b[0;34m,\u001b[0m \u001b[0marray_attrables\u001b[0m\u001b[0;34m)\u001b[0m\u001b[0;34m\u001b[0m\u001b[0;34m\u001b[0m\u001b[0m\n\u001b[0m\u001b[1;32m   1206\u001b[0m     \u001b[0;32mif\u001b[0m \u001b[0mconstructor\u001b[0m \u001b[0;32min\u001b[0m \u001b[0;34m[\u001b[0m\u001b[0mgo\u001b[0m\u001b[0;34m.\u001b[0m\u001b[0mTreemap\u001b[0m\u001b[0;34m,\u001b[0m \u001b[0mgo\u001b[0m\u001b[0;34m.\u001b[0m\u001b[0mSunburst\u001b[0m\u001b[0;34m]\u001b[0m \u001b[0;32mand\u001b[0m \u001b[0margs\u001b[0m\u001b[0;34m[\u001b[0m\u001b[0;34m\"path\"\u001b[0m\u001b[0;34m]\u001b[0m \u001b[0;32mis\u001b[0m \u001b[0;32mnot\u001b[0m \u001b[0;32mNone\u001b[0m\u001b[0;34m:\u001b[0m\u001b[0;34m\u001b[0m\u001b[0;34m\u001b[0m\u001b[0m\n\u001b[1;32m   1207\u001b[0m         \u001b[0margs\u001b[0m \u001b[0;34m=\u001b[0m \u001b[0mprocess_dataframe_hierarchy\u001b[0m\u001b[0;34m(\u001b[0m\u001b[0margs\u001b[0m\u001b[0;34m)\u001b[0m\u001b[0;34m\u001b[0m\u001b[0;34m\u001b[0m\u001b[0m\n",
      "\u001b[0;32m/Library/Frameworks/Python.framework/Versions/3.8/lib/python3.8/site-packages/plotly/express/_core.py\u001b[0m in \u001b[0;36mbuild_dataframe\u001b[0;34m(args, attrables, array_attrables)\u001b[0m\n\u001b[1;32m    972\u001b[0m                             \u001b[0;34m\"\\n To use the index, pass it in directly as `df.index`.\"\u001b[0m\u001b[0;34m\u001b[0m\u001b[0;34m\u001b[0m\u001b[0m\n\u001b[1;32m    973\u001b[0m                         )\n\u001b[0;32m--> 974\u001b[0;31m                     \u001b[0;32mraise\u001b[0m \u001b[0mValueError\u001b[0m\u001b[0;34m(\u001b[0m\u001b[0merr_msg\u001b[0m\u001b[0;34m)\u001b[0m\u001b[0;34m\u001b[0m\u001b[0;34m\u001b[0m\u001b[0m\n\u001b[0m\u001b[1;32m    975\u001b[0m                 \u001b[0;32mif\u001b[0m \u001b[0mlength\u001b[0m \u001b[0;32mand\u001b[0m \u001b[0mlen\u001b[0m\u001b[0;34m(\u001b[0m\u001b[0mdf_input\u001b[0m\u001b[0;34m[\u001b[0m\u001b[0margument\u001b[0m\u001b[0;34m]\u001b[0m\u001b[0;34m)\u001b[0m \u001b[0;34m!=\u001b[0m \u001b[0mlength\u001b[0m\u001b[0;34m:\u001b[0m\u001b[0;34m\u001b[0m\u001b[0;34m\u001b[0m\u001b[0m\n\u001b[1;32m    976\u001b[0m                     raise ValueError(\n",
      "\u001b[0;31mValueError\u001b[0m: Value of 'y' is not the name of a column in 'data_frame'. Expected one of ['#', 'Name', 'Type 1', 'Type 2', 'HP', 'Attack', 'Defense', 'Sp. Atk', 'Sp. Def', 'Speed', 'Generation', 'Legendary', 'First_pokemon', 'Second_pokemon', 'Total Fights', 'Win Percentage'] but received: total_bill"
     ]
    }
   ],
   "source": [
    "# Change the default stacking\n",
    "\n",
    "import plotly.express as px\n",
    "\n",
    "fig = px.bar(results2, x=\"Type 1\", y=\"total_bill\", color='Legendary', barmode='group',\n",
    "             height=400)\n",
    "fig.show()"
   ]
  },
  {
   "cell_type": "code",
   "execution_count": null,
   "metadata": {},
   "outputs": [],
   "source": [
    "import plotly.graph_objects as go\n",
    "import plotly.offline as pyo\n",
    "\n",
    "data = []\n",
    "legendary_type = [False, True]\n",
    "for pokemon in legendary_type:\n",
    "    x = results2[results2['Legendary'] == pokemon]['Type 1'].value_counts().index.values\n",
    "    y = results2[results2['Legendary'] == pokemon]['Type 1'].value_counts().values\n",
    "    data.append(go.Bar(x=x, y=y, name=pokemon))\n",
    "\n",
    "layout = go.Layout(title=\"Total pokemon by type 1\",\n",
    "                   xaxis=dict(title=\"Type 1\"),\n",
    "                   yaxis=dict(title=\"Count of legendary\"),\n",
    "                   legend=dict(x=1.0, y=0.5),\n",
    "                   # Here annotations need to create legend title\n",
    "                   annotations=[\n",
    "                                dict(\n",
    "                                    x=1.05,\n",
    "                                    y=0.55,\n",
    "                                    xref=\"paper\",\n",
    "                                    yref=\"paper\",\n",
    "                                    text=\"Legendary\",\n",
    "                                    showarrow=False\n",
    "                                )],\n",
    "                   barmode=\"group\")"
   ]
  },
  {
   "cell_type": "code",
   "execution_count": null,
   "metadata": {},
   "outputs": [],
   "source": [
    "fig = go.Figure(data=data, layout=layout)\n",
    "pyo.iplot(fig)"
   ]
  },
  {
   "cell_type": "code",
   "execution_count": null,
   "metadata": {},
   "outputs": [],
   "source": [
    "data = []\n",
    "legendary_type = [False, True]\n",
    "for pokemon in legendary_type:\n",
    "    x = results2[results2['Legendary'] == pokemon]['Type 2'].value_counts().index.values\n",
    "    y = results2[results2['Legendary'] == pokemon]['Type 2'].value_counts().values\n",
    "    data.append(go.Bar(x=x, y=y, name=pokemon))\n",
    "\n",
    "layout = go.Layout(title=\"Total pokemon by type 2\",\n",
    "                   xaxis=dict(title=\"Type 2\"),\n",
    "                   yaxis=dict(title=\"Count of legendary\"),\n",
    "                   legend=dict(x=1.0, y=0.5),\n",
    "                   # Here annotations need to create legend title\n",
    "                   annotations=[\n",
    "                                dict(\n",
    "                                    x=1.07,\n",
    "                                    y=0.7,\n",
    "                                    xref=\"paper\",\n",
    "                                    yref=\"paper\",\n",
    "                                    text=\"Legendary\",\n",
    "                                    showarrow=False\n",
    "                                )],\n",
    "                   barmode=\"group\")\n",
    "fig = go.Figure(data=data, layout=layout)\n",
    "pyo.iplot(fig)"
   ]
  },
  {
   "cell_type": "code",
   "execution_count": null,
   "metadata": {},
   "outputs": [],
   "source": [
    "# Pivot table\n",
    "\n",
    "results2.groupby('Type 1').agg({'Win Percentage':np.mean}).sort_values('Win Percentage', ascending=False)\n",
    "# results2.pivot_table(index='Type 1', values='Win Percentage', aggfunc=np.mean).sort_values('Win Percentage')"
   ]
  },
  {
   "cell_type": "code",
   "execution_count": null,
   "metadata": {},
   "outputs": [],
   "source": [
    "#sns.distplot(results3[\"Win Percentage\"].dropna(), bins=20)\n",
    "col = ['Type 1','HP', 'Attack', 'Defense', 'Sp. Atk', 'Sp. Def', 'Speed', 'Win Percentage']\n",
    "#results3.loc[:,'HP':'Speed'].corr()\n",
    "sns.pairplot(results3.loc[:,col].dropna())\n",
    "plt.show()"
   ]
  },
  {
   "cell_type": "code",
   "execution_count": null,
   "metadata": {},
   "outputs": [],
   "source": [
    "g = sns.PairGrid(results3.loc[:,col], diag_sharey=False)\n",
    "g.map_lower(sns.kdeplot, cmap=\"Blues_d\")\n",
    "g.map_upper(sns.regplot)\n",
    "g.map_diag(sns.kdeplot, lw=3)"
   ]
  },
  {
   "cell_type": "code",
   "execution_count": null,
   "metadata": {},
   "outputs": [],
   "source": [
    "results3.loc[:,col].corr()"
   ]
  },
  {
   "cell_type": "code",
   "execution_count": null,
   "metadata": {},
   "outputs": [],
   "source": [
    "#This function was taken from the link above \n",
    "def correlation_matrix(df):\n",
    "    from matplotlib import pyplot as plt\n",
    "    from matplotlib import cm as cm\n",
    "\n",
    "    fig = plt.figure()\n",
    "    ax1 = fig.add_subplot(111)\n",
    "    cmap = cm.get_cmap('jet', 50)\n",
    "    cax = ax1.imshow(df.corr(), interpolation=\"nearest\", cmap=cmap)\n",
    "    ax1.grid(True)\n",
    "    plt.title('Pokemon Feature Correlation')\n",
    "    labels=['Type 1','HP', 'Attack', 'Defense', 'Sp. Atk', 'Sp. Def', 'Speed', 'Win %']\n",
    "    ax1.set_xticklabels(labels,fontsize=7)\n",
    "    ax1.set_yticklabels(labels,fontsize=7)\n",
    "    # Add colorbar, make sure to specify tick locations to match desired ticklabels\n",
    "    fig.colorbar(cax, ticks=[0.00,.05,.10,.15,.20,.25,.30,.35,.40,.45,.50,.55,.60,.65,.70,.75,.8,.85,.90,.95,1])\n",
    "    plt.show()\n",
    "\n",
    "correlation_matrix(results3.loc[:,col])"
   ]
  },
  {
   "cell_type": "code",
   "execution_count": null,
   "metadata": {},
   "outputs": [],
   "source": [
    "sns.regplot(x=\"Speed\", y=\"Win Percentage\", data=results3, logistic=True).set_title(\"Speed vs Win Percentage\")"
   ]
  },
  {
   "cell_type": "code",
   "execution_count": null,
   "metadata": {},
   "outputs": [],
   "source": [
    "sns.lmplot(x=\"Speed\", y=\"Win Percentage\", data=results3, hue = 'Type 1',  logistic=True)#.set_title(\"Speed vs Win Percentage\")"
   ]
  },
  {
   "cell_type": "markdown",
   "metadata": {},
   "source": [
    "# Machine Learning\n"
   ]
  },
  {
   "cell_type": "markdown",
   "metadata": {},
   "source": [
    "## Supervised learning\n"
   ]
  },
  {
   "cell_type": "markdown",
   "metadata": {},
   "source": [
    "- Select data\n",
    "- Preprocess data\n",
    "- Transform data\n",
    "- Fit data to model/predict\n",
    "- Validate model\n",
    "- Parameter turning"
   ]
  },
  {
   "cell_type": "code",
   "execution_count": 31,
   "metadata": {},
   "outputs": [],
   "source": [
    "dataset = results2"
   ]
  },
  {
   "cell_type": "code",
   "execution_count": 32,
   "metadata": {},
   "outputs": [],
   "source": [
    "# drop all missing values\n",
    "dataset.dropna(axis=0, how='any')\n",
    "X = dataset.iloc[:, 5:11].values\n",
    "y = dataset.iloc[:, 15]\n",
    "\n",
    "from sklearn.model_selection import train_test_split\n",
    "X_train, X_test, y_train, y_test = train_test_split(X, y, test_size=0.2, random_state=0)"
   ]
  },
  {
   "cell_type": "markdown",
   "metadata": {},
   "source": [
    "### Feature Scaling"
   ]
  },
  {
   "cell_type": "markdown",
   "metadata": {},
   "source": [
    "#### Multiple Linear Regression"
   ]
  },
  {
   "cell_type": "code",
   "execution_count": 33,
   "metadata": {},
   "outputs": [],
   "source": [
    "def ml_linearreg(X_train, X_test, y_train, y_test):\n",
    "    # fitting multiple linear regression to the trainin set\n",
    "    from sklearn.linear_model import LinearRegression\n",
    "    reg = LinearRegression()\n",
    "    reg.fit(X_train, y_train)\n",
    "    print(reg.score(X_train, y_train))\n",
    "    #Predicting the test set results\n",
    "    y_pred = reg.predict(X_test)\n",
    "    \n",
    "    # Validating the results\n",
    "    from sklearn.metrics import mean_absolute_error\n",
    "    from math import sqrt\n",
    "    \n",
    "    mae = mean_absolute_error(y_test, y_pred)\n",
    "    mse = sqrt(mae)\n",
    "    return f'MAE: {mae}; MSE: {mse}'"
   ]
  },
  {
   "cell_type": "code",
   "execution_count": 34,
   "metadata": {},
   "outputs": [
    {
     "name": "stdout",
     "output_type": "stream",
     "text": [
      "0.9076142320040209\n"
     ]
    },
    {
     "data": {
      "text/plain": [
       "'MAE: 0.06143408809230802; MSE: 0.24785900849537024'"
      ]
     },
     "execution_count": 34,
     "metadata": {},
     "output_type": "execute_result"
    }
   ],
   "source": [
    "ml_linearreg(X_train, X_test, y_train, y_test)"
   ]
  },
  {
   "cell_type": "markdown",
   "metadata": {},
   "source": [
    "#### SVM"
   ]
  },
  {
   "cell_type": "code",
   "execution_count": 35,
   "metadata": {},
   "outputs": [
    {
     "name": "stdout",
     "output_type": "stream",
     "text": [
      "0.9065078337237095\n"
     ]
    },
    {
     "data": {
      "text/plain": [
       "0.06360099438357145"
      ]
     },
     "execution_count": 35,
     "metadata": {},
     "output_type": "execute_result"
    }
   ],
   "source": [
    "# Feature Scaling\n",
    "def ml_svm(X_train, X_test, y_train, y_test):\n",
    "    # Fitting SVR to the dataset\n",
    "    from sklearn.svm import SVR\n",
    "    reg = SVR(kernel='linear')\n",
    "    reg.fit(X_train, y_train)\n",
    "    print(reg.score(X_train, y_train))\n",
    "    \n",
    "    # Predict Output\n",
    "    y_pred = reg.predict(X_test)\n",
    "    \n",
    "    from sklearn.metrics import mean_absolute_error\n",
    "    from math import sqrt\n",
    "    mae = mean_absolute_error(y_test, y_pred)\n",
    "    return mae\n",
    "ml_svm(X_train, X_test, y_train, y_test)"
   ]
  },
  {
   "cell_type": "code",
   "execution_count": 36,
   "metadata": {},
   "outputs": [
    {
     "name": "stdout",
     "output_type": "stream",
     "text": [
      "0.9997364298486605\n"
     ]
    },
    {
     "data": {
      "text/plain": [
       "0.05381006518627112"
      ]
     },
     "execution_count": 36,
     "metadata": {},
     "output_type": "execute_result"
    }
   ],
   "source": [
    "#feature scaling not needed\n",
    "\n",
    "def ml_decisiontree(X_train, X_test, y_train, y_test):\n",
    "    # Fitting Decision Tree Regression to the dataset\n",
    "    from sklearn.tree import DecisionTreeRegressor\n",
    "    regressor = DecisionTreeRegressor(random_state = 0)\n",
    "    regressor.fit(X_train, y_train)\n",
    "    print(regressor.score(X_train, y_train))\n",
    "\n",
    "    # Predicting a new result\n",
    "    y_pred = regressor.predict(X_test)\n",
    "\n",
    "    from sklearn.metrics import mean_absolute_error\n",
    "    from math import sqrt\n",
    "    mae = mean_absolute_error(y_test, y_pred)\n",
    "    #print(\"Mean Absolute Error: \" + str(mae))\n",
    "    return mae\n",
    "\n",
    "ml_decisiontree(X_train, X_test, y_train, y_test)"
   ]
  },
  {
   "cell_type": "markdown",
   "metadata": {},
   "source": [
    "#### Random Forest"
   ]
  },
  {
   "cell_type": "code",
   "execution_count": 37,
   "metadata": {},
   "outputs": [
    {
     "name": "stdout",
     "output_type": "stream",
     "text": [
      "0.9933514163022409\n"
     ]
    },
    {
     "data": {
      "text/plain": [
       "0.047472434612171495"
      ]
     },
     "execution_count": 37,
     "metadata": {},
     "output_type": "execute_result"
    }
   ],
   "source": [
    "def ml_randomforest(X_train, X_test, y_train, y_test):\n",
    "    # Fitting Random Forest Regression to the dataset\n",
    "    from sklearn.ensemble import RandomForestRegressor\n",
    "    reg = RandomForestRegressor()\n",
    "    reg.fit(X_train, y_train)\n",
    "    print(reg.score(X_train, y_train))\n",
    "    \n",
    "    # Predicting results \n",
    "    y_pred = reg.predict(X_test)\n",
    "    \n",
    "    from sklearn.metrics import mean_absolute_error\n",
    "    from math import sqrt\n",
    "    mae = mean_absolute_error(y_test, y_pred)\n",
    "   \n",
    "    return mae\n",
    "    \n",
    "ml_randomforest(X_train, X_test, y_train, y_test)"
   ]
  },
  {
   "cell_type": "code",
   "execution_count": 38,
   "metadata": {},
   "outputs": [
    {
     "ename": "ModuleNotFoundError",
     "evalue": "No module named 'xgboost'",
     "output_type": "error",
     "traceback": [
      "\u001b[0;31m---------------------------------------------------------------------------\u001b[0m",
      "\u001b[0;31mModuleNotFoundError\u001b[0m                       Traceback (most recent call last)",
      "\u001b[0;32m<ipython-input-38-c9b175ea83d4>\u001b[0m in \u001b[0;36m<module>\u001b[0;34m\u001b[0m\n\u001b[1;32m     14\u001b[0m     \u001b[0;32mreturn\u001b[0m \u001b[0mmae\u001b[0m\u001b[0;34m\u001b[0m\u001b[0;34m\u001b[0m\u001b[0m\n\u001b[1;32m     15\u001b[0m \u001b[0;34m\u001b[0m\u001b[0m\n\u001b[0;32m---> 16\u001b[0;31m \u001b[0mml_xgboost\u001b[0m\u001b[0;34m(\u001b[0m\u001b[0mX_train\u001b[0m\u001b[0;34m,\u001b[0m \u001b[0mX_test\u001b[0m\u001b[0;34m,\u001b[0m \u001b[0my_train\u001b[0m\u001b[0;34m,\u001b[0m \u001b[0my_test\u001b[0m\u001b[0;34m)\u001b[0m\u001b[0;34m\u001b[0m\u001b[0;34m\u001b[0m\u001b[0m\n\u001b[0m",
      "\u001b[0;32m<ipython-input-38-c9b175ea83d4>\u001b[0m in \u001b[0;36mml_xgboost\u001b[0;34m(X_train, X_test, y_train, y_test)\u001b[0m\n\u001b[1;32m      1\u001b[0m \u001b[0;32mdef\u001b[0m \u001b[0mml_xgboost\u001b[0m\u001b[0;34m(\u001b[0m\u001b[0mX_train\u001b[0m\u001b[0;34m,\u001b[0m \u001b[0mX_test\u001b[0m\u001b[0;34m,\u001b[0m \u001b[0my_train\u001b[0m\u001b[0;34m,\u001b[0m \u001b[0my_test\u001b[0m\u001b[0;34m)\u001b[0m\u001b[0;34m:\u001b[0m\u001b[0;34m\u001b[0m\u001b[0;34m\u001b[0m\u001b[0m\n\u001b[0;32m----> 2\u001b[0;31m     \u001b[0;32mimport\u001b[0m \u001b[0mxgboost\u001b[0m\u001b[0;34m\u001b[0m\u001b[0;34m\u001b[0m\u001b[0m\n\u001b[0m\u001b[1;32m      3\u001b[0m     \u001b[0;31m# fitting XGBoost to training set\u001b[0m\u001b[0;34m\u001b[0m\u001b[0;34m\u001b[0m\u001b[0;34m\u001b[0m\u001b[0m\n\u001b[1;32m      4\u001b[0m     \u001b[0mxgb\u001b[0m \u001b[0;34m=\u001b[0m \u001b[0mxgboost\u001b[0m\u001b[0;34m.\u001b[0m\u001b[0mXGBRegressor\u001b[0m\u001b[0;34m(\u001b[0m\u001b[0mn_estimators\u001b[0m\u001b[0;34m=\u001b[0m\u001b[0;36m100\u001b[0m\u001b[0;34m,\u001b[0m \u001b[0mlearning_rate\u001b[0m\u001b[0;34m=\u001b[0m\u001b[0;36m0.08\u001b[0m\u001b[0;34m,\u001b[0m \u001b[0mgamma\u001b[0m\u001b[0;34m=\u001b[0m\u001b[0;36m0\u001b[0m\u001b[0;34m,\u001b[0m \u001b[0msubsample\u001b[0m\u001b[0;34m=\u001b[0m\u001b[0;36m0.75\u001b[0m\u001b[0;34m,\u001b[0m \u001b[0mcolsample_bytree\u001b[0m\u001b[0;34m=\u001b[0m\u001b[0;36m1\u001b[0m\u001b[0;34m,\u001b[0m \u001b[0mmax_depth\u001b[0m\u001b[0;34m=\u001b[0m\u001b[0;36m7\u001b[0m\u001b[0;34m)\u001b[0m\u001b[0;34m\u001b[0m\u001b[0;34m\u001b[0m\u001b[0m\n\u001b[1;32m      5\u001b[0m     \u001b[0mxgb\u001b[0m\u001b[0;34m.\u001b[0m\u001b[0mfit\u001b[0m\u001b[0;34m(\u001b[0m\u001b[0mX_train\u001b[0m\u001b[0;34m,\u001b[0m\u001b[0my_train\u001b[0m\u001b[0;34m)\u001b[0m\u001b[0;34m\u001b[0m\u001b[0;34m\u001b[0m\u001b[0m\n",
      "\u001b[0;31mModuleNotFoundError\u001b[0m: No module named 'xgboost'"
     ]
    }
   ],
   "source": [
    "def ml_xgboost(X_train, X_test, y_train, y_test):\n",
    "    import xgboost\n",
    "    # fitting XGBoost to training set\n",
    "    xgb = xgboost.XGBRegressor(n_estimators=100, learning_rate=0.08, gamma=0, subsample=0.75, colsample_bytree=1, max_depth=7)\n",
    "    xgb.fit(X_train,y_train)\n",
    "    print(xgb.score(X_train, y_train))\n",
    "    # Prediction\n",
    "    y_pred = xgb.predict(X_test)\n",
    "    #print(explained_variance_score(y_pred ,y_test))\n",
    "    from sklearn.metrics import mean_absolute_error\n",
    "    from math import sqrt\n",
    "    mae = mean_absolute_error(y_test, y_pred)\n",
    "    #print(\"Mean Absolute Error: \" + str(mae))\n",
    "    return mae\n",
    "\n",
    "ml_xgboost(X_train, X_test, y_train, y_test)"
   ]
  },
  {
   "cell_type": "code",
   "execution_count": 39,
   "metadata": {},
   "outputs": [
    {
     "name": "stdout",
     "output_type": "stream",
     "text": [
      "0.9076142320040209\n",
      "0.9065078337237095\n",
      "0.9997364298486605\n",
      "0.993337872071722\n"
     ]
    }
   ],
   "source": [
    "all_stats = [ml_linearreg(X_train, X_test, y_train, y_test), ml_svm(X_train, X_test, y_train, y_test), ml_decisiontree(X_train, X_test, y_train, y_test), ml_randomforest(X_train, X_test, y_train, y_test)]\n",
    "#all_stats"
   ]
  },
  {
   "cell_type": "code",
   "execution_count": null,
   "metadata": {},
   "outputs": [],
   "source": [
    "# PCA\n",
    "\n",
    "from sklearn.preprocessing import StandardScaler\n",
    "sc = StandardScaler()\n",
    "X_train = sc.fit_transform(X_train)\n",
    "X_test = sc.transform(X_test)\n",
    "\n",
    "# Applying PCA\n",
    "from sklearn.decomposition import PCA\n",
    "#pca = PCA(n_components = None)\n",
    "pca = PCA(n_components = 3)\n",
    "X_train = pca.fit_transform(X_train)\n",
    "X_test = pca.transform(X_test)\n",
    "# Provides a vector of the variance explained by each component\n",
    "explained_variance = pca.explained_variance_ratio_\n",
    "print(\"This is the variance explained by the principle components\")\n",
    "print(explained_variance)"
   ]
  },
  {
   "cell_type": "code",
   "execution_count": 46,
   "metadata": {},
   "outputs": [
    {
     "name": "stdout",
     "output_type": "stream",
     "text": [
      "0.44239289270218385\n",
      "0.44107156028061345\n",
      "0.9997364454374928\n",
      "0.9313586627957581\n"
     ]
    }
   ],
   "source": [
    "PCA = [ml_linearreg(X_train, X_test, y_train, y_test), ml_svm(X_train, X_test, y_train, y_test), ml_decisiontree(X_train, X_test, y_train, y_test), ml_randomforest(X_train, X_test, y_train, y_test)]"
   ]
  },
  {
   "cell_type": "code",
   "execution_count": 49,
   "metadata": {},
   "outputs": [
    {
     "name": "stdout",
     "output_type": "stream",
     "text": [
      "0.9049921104553327\n"
     ]
    },
    {
     "name": "stderr",
     "output_type": "stream",
     "text": [
      "/Library/Frameworks/Python.framework/Versions/3.8/lib/python3.8/site-packages/sklearn/utils/validation.py:760: DataConversionWarning:\n",
      "\n",
      "A column-vector y was passed when a 1d array was expected. Please change the shape of y to (n_samples, ), for example using ravel().\n",
      "\n"
     ]
    },
    {
     "name": "stdout",
     "output_type": "stream",
     "text": [
      "0.9040040161126808\n",
      "0.9930604360712907\n"
     ]
    },
    {
     "name": "stderr",
     "output_type": "stream",
     "text": [
      "<ipython-input-37-881ee53b2c90>:5: DataConversionWarning:\n",
      "\n",
      "A column-vector y was passed when a 1d array was expected. Please change the shape of y to (n_samples,), for example using ravel().\n",
      "\n"
     ]
    },
    {
     "name": "stdout",
     "output_type": "stream",
     "text": [
      "0.9885390467501574\n"
     ]
    }
   ],
   "source": [
    "# reduce the features to only speed and attack. \n",
    "dataset = results2\n",
    "dataset.dropna(axis=0, how='any')\n",
    "# Splitting the dataset into the Training set and Test set\n",
    "X = dataset.loc[:, ['Attack','Speed']].values\n",
    "y = dataset.loc[:, ['Win Percentage']].values\n",
    "\n",
    "from sklearn.model_selection import train_test_split\n",
    "X_train, X_test, y_train, y_test = train_test_split(X, y, test_size = 0.2, random_state = 0)\n",
    "\n",
    "#ml_linearreg(X_train, X_test, y_train, y_test)\n",
    "#ml_svm(X_train, X_test, y_train, y_test)\n",
    "#ml_decisiontree(X_train, X_test, y_train, y_test)\n",
    "#ml_randomforest(X_train, X_test, y_train, y_test)\n",
    "#ml_xgboost(X_train, X_test, y_train, y_test)\n",
    "\n",
    "reduced_stats = [ml_linearreg(X_train, X_test, y_train, y_test), ml_svm(X_train, X_test, y_train, y_test), ml_decisiontree(X_train, X_test, y_train, y_test), ml_randomforest(X_train, X_test, y_train, y_test)]"
   ]
  },
  {
   "cell_type": "code",
   "execution_count": 50,
   "metadata": {},
   "outputs": [
    {
     "data": {
      "text/html": [
       "<div>\n",
       "<style scoped>\n",
       "    .dataframe tbody tr th:only-of-type {\n",
       "        vertical-align: middle;\n",
       "    }\n",
       "\n",
       "    .dataframe tbody tr th {\n",
       "        vertical-align: top;\n",
       "    }\n",
       "\n",
       "    .dataframe thead th {\n",
       "        text-align: right;\n",
       "    }\n",
       "</style>\n",
       "<table border=\"1\" class=\"dataframe\">\n",
       "  <thead>\n",
       "    <tr style=\"text-align: right;\">\n",
       "      <th></th>\n",
       "      <th>All Factors</th>\n",
       "      <th>Reduced Factors</th>\n",
       "      <th>PCA</th>\n",
       "    </tr>\n",
       "  </thead>\n",
       "  <tbody>\n",
       "    <tr>\n",
       "      <th>Linear</th>\n",
       "      <td>MAE: 0.06143408809230802; MSE: 0.2478590084953...</td>\n",
       "      <td>MAE: 0.06281246289614097; MSE: 0.2506241466741...</td>\n",
       "      <td>MAE: 0.1585051381159789; MSE: 0.39812703766006513</td>\n",
       "    </tr>\n",
       "    <tr>\n",
       "      <th>SVM</th>\n",
       "      <td>0.063601</td>\n",
       "      <td>0.064739</td>\n",
       "      <td>0.157473</td>\n",
       "    </tr>\n",
       "    <tr>\n",
       "      <th>Decision Tree</th>\n",
       "      <td>0.0538101</td>\n",
       "      <td>0.054214</td>\n",
       "      <td>0.186182</td>\n",
       "    </tr>\n",
       "    <tr>\n",
       "      <th>Random Forest</th>\n",
       "      <td>0.0478419</td>\n",
       "      <td>0.0494678</td>\n",
       "      <td>0.147323</td>\n",
       "    </tr>\n",
       "  </tbody>\n",
       "</table>\n",
       "</div>"
      ],
      "text/plain": [
       "                                                     All Factors  \\\n",
       "Linear         MAE: 0.06143408809230802; MSE: 0.2478590084953...   \n",
       "SVM                                                     0.063601   \n",
       "Decision Tree                                          0.0538101   \n",
       "Random Forest                                          0.0478419   \n",
       "\n",
       "                                                 Reduced Factors  \\\n",
       "Linear         MAE: 0.06281246289614097; MSE: 0.2506241466741...   \n",
       "SVM                                                     0.064739   \n",
       "Decision Tree                                           0.054214   \n",
       "Random Forest                                          0.0494678   \n",
       "\n",
       "                                                             PCA  \n",
       "Linear         MAE: 0.1585051381159789; MSE: 0.39812703766006513  \n",
       "SVM                                                     0.157473  \n",
       "Decision Tree                                           0.186182  \n",
       "Random Forest                                           0.147323  "
      ]
     },
     "execution_count": 50,
     "metadata": {},
     "output_type": "execute_result"
    }
   ],
   "source": [
    "#compare results from the 3 trials \n",
    "ml_results = pd.DataFrame({'All Factors': all_stats, 'Reduced Factors': reduced_stats, 'PCA': PCA})\n",
    "ml_results.rename(index = {0:'Linear',1:'SVM', 2:'Decision Tree', 3:'Random Forest'})"
   ]
  },
  {
   "cell_type": "code",
   "execution_count": null,
   "metadata": {},
   "outputs": [],
   "source": []
  },
  {
   "cell_type": "code",
   "execution_count": null,
   "metadata": {},
   "outputs": [],
   "source": []
  }
 ],
 "metadata": {
  "kernelspec": {
   "display_name": "Python 3.8.0 64-bit",
   "language": "python",
   "name": "python38064bita3e2b9284fe241009277b40c2dcf841c"
  },
  "language_info": {
   "codemirror_mode": {
    "name": "ipython",
    "version": 3
   },
   "file_extension": ".py",
   "mimetype": "text/x-python",
   "name": "python",
   "nbconvert_exporter": "python",
   "pygments_lexer": "ipython3",
   "version": "3.8.0"
  },
  "toc-autonumbering": true
 },
 "nbformat": 4,
 "nbformat_minor": 4
}
