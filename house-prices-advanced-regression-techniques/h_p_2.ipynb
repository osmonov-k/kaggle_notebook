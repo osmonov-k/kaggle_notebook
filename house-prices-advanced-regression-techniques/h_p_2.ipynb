{
 "cells": [
  {
   "cell_type": "code",
   "execution_count": 7,
   "metadata": {},
   "outputs": [],
   "source": [
    "# importing libraries\n",
    "import pandas as pd\n",
    "import numpy as np\n",
    "\n",
    "import matplotlib.pyplot as plt\n",
    "import seaborn as sns\n",
    "\n",
    "import dc_stat_think as dcst\n",
    "import missingno as msno\n",
    "\n",
    "import os\n",
    "from subprocess import check_output\n",
    "import pandas_profiling"
   ]
  },
  {
   "cell_type": "code",
   "execution_count": 12,
   "metadata": {},
   "outputs": [
    {
     "name": "stdout",
     "output_type": "stream",
     "text": [
      "data_description.txt\n",
      "german_credit_risk.ipynb\n",
      "h_p_2.ipynb\n",
      "house_pricing.ipynb\n",
      "house_pricing_1.ipynb\n",
      "sample_submission.csv\n",
      "test.csv\n",
      "train.csv\n",
      "\n"
     ]
    }
   ],
   "source": [
    "print(check_output(['ls', '../house-prices-advanced-regression-techniques/']).decode('utf8'))"
   ]
  },
  {
   "cell_type": "code",
   "execution_count": 13,
   "metadata": {},
   "outputs": [],
   "source": [
    "# import train csv file\n",
    "df_train = pd.read_csv('train.csv')"
   ]
  },
  {
   "cell_type": "code",
   "execution_count": 33,
   "metadata": {},
   "outputs": [
    {
     "data": {
      "text/plain": [
       "array([208500, 181500, 223500, ..., 266500, 142125, 147500])"
      ]
     },
     "execution_count": 33,
     "metadata": {},
     "output_type": "execute_result"
    }
   ],
   "source": []
  },
  {
   "cell_type": "code",
   "execution_count": 34,
   "metadata": {},
   "outputs": [
    {
     "name": "stderr",
     "output_type": "stream",
     "text": [
      "/Library/Frameworks/Python.framework/Versions/3.8/lib/python3.8/site-packages/dc_stat_think/dc_stat_think.py:272: NumbaWarning: \n",
      "Compilation is falling back to object mode WITH looplifting enabled because Function \"_draw_bs_reps\" failed type inference due to: Invalid use of type(CPUDispatcher(<function _make_one_arg_numba_func.<locals>.f at 0x11aa1fc10>)) with parameters (array(float64, 1d, C), Tuple())\n",
      " * parameterized\n",
      "[1] During: resolving callee type: type(CPUDispatcher(<function _make_one_arg_numba_func.<locals>.f at 0x11aa1fc10>))\n",
      "[2] During: typing of call at /Library/Frameworks/Python.framework/Versions/3.8/lib/python3.8/site-packages/dc_stat_think/dc_stat_think.py (280)\n",
      "\n",
      "\n",
      "File \"../../../../../../../Library/Frameworks/Python.framework/Versions/3.8/lib/python3.8/site-packages/dc_stat_think/dc_stat_think.py\", line 280:\n",
      "    def _draw_bs_reps(data):\n",
      "        <source elided>\n",
      "        for i in range(size):\n",
      "            bs_reps[i] = f(np.random.choice(data, size=n), args)\n",
      "            ^\n",
      "\n",
      "  @numba.jit\n",
      "/Library/Frameworks/Python.framework/Versions/3.8/lib/python3.8/site-packages/dc_stat_think/dc_stat_think.py:272: NumbaWarning: \n",
      "Compilation is falling back to object mode WITHOUT looplifting enabled because Function \"_draw_bs_reps\" failed type inference due to: cannot determine Numba type of <class 'numba.dispatcher.LiftedLoop'>\n",
      "\n",
      "File \"../../../../../../../Library/Frameworks/Python.framework/Versions/3.8/lib/python3.8/site-packages/dc_stat_think/dc_stat_think.py\", line 279:\n",
      "    def _draw_bs_reps(data):\n",
      "        <source elided>\n",
      "        n = len(data)\n",
      "        for i in range(size):\n",
      "        ^\n",
      "\n",
      "  @numba.jit\n",
      "/Library/Frameworks/Python.framework/Versions/3.8/lib/python3.8/site-packages/numba/object_mode_passes.py:177: NumbaWarning: Function \"_draw_bs_reps\" was compiled in object mode without forceobj=True, but has lifted loops.\n",
      "\n",
      "File \"../../../../../../../Library/Frameworks/Python.framework/Versions/3.8/lib/python3.8/site-packages/dc_stat_think/dc_stat_think.py\", line 275:\n",
      "    def _draw_bs_reps(data):\n",
      "        <source elided>\n",
      "        # Set up output array\n",
      "        bs_reps = np.empty(size)\n",
      "        ^\n",
      "\n",
      "  warnings.warn(errors.NumbaWarning(warn_msg,\n",
      "/Library/Frameworks/Python.framework/Versions/3.8/lib/python3.8/site-packages/numba/object_mode_passes.py:187: NumbaDeprecationWarning: \n",
      "Fall-back from the nopython compilation path to the object mode compilation path has been detected, this is deprecated behaviour.\n",
      "\n",
      "For more information visit http://numba.pydata.org/numba-doc/latest/reference/deprecation.html#deprecation-of-object-mode-fall-back-behaviour-when-using-jit\n",
      "\n",
      "File \"../../../../../../../Library/Frameworks/Python.framework/Versions/3.8/lib/python3.8/site-packages/dc_stat_think/dc_stat_think.py\", line 275:\n",
      "    def _draw_bs_reps(data):\n",
      "        <source elided>\n",
      "        # Set up output array\n",
      "        bs_reps = np.empty(size)\n",
      "        ^\n",
      "\n",
      "  warnings.warn(errors.NumbaDeprecationWarning(msg,\n",
      "/Library/Frameworks/Python.framework/Versions/3.8/lib/python3.8/site-packages/dc_stat_think/dc_stat_think.py:272: NumbaWarning: \n",
      "Compilation is falling back to object mode WITHOUT looplifting enabled because Function \"_draw_bs_reps\" failed type inference due to: Invalid use of type(CPUDispatcher(<function _make_one_arg_numba_func.<locals>.f at 0x11aa1fc10>)) with parameters (array(float64, 1d, C), Tuple())\n",
      " * parameterized\n",
      "[1] During: resolving callee type: type(CPUDispatcher(<function _make_one_arg_numba_func.<locals>.f at 0x11aa1fc10>))\n",
      "[2] During: typing of call at /Library/Frameworks/Python.framework/Versions/3.8/lib/python3.8/site-packages/dc_stat_think/dc_stat_think.py (280)\n",
      "\n",
      "\n",
      "File \"../../../../../../../Library/Frameworks/Python.framework/Versions/3.8/lib/python3.8/site-packages/dc_stat_think/dc_stat_think.py\", line 280:\n",
      "    def _draw_bs_reps(data):\n",
      "        <source elided>\n",
      "        for i in range(size):\n",
      "            bs_reps[i] = f(np.random.choice(data, size=n), args)\n",
      "            ^\n",
      "\n",
      "  @numba.jit\n",
      "/Library/Frameworks/Python.framework/Versions/3.8/lib/python3.8/site-packages/numba/object_mode_passes.py:177: NumbaWarning: Function \"_draw_bs_reps\" was compiled in object mode without forceobj=True.\n",
      "\n",
      "File \"../../../../../../../Library/Frameworks/Python.framework/Versions/3.8/lib/python3.8/site-packages/dc_stat_think/dc_stat_think.py\", line 279:\n",
      "    def _draw_bs_reps(data):\n",
      "        <source elided>\n",
      "        n = len(data)\n",
      "        for i in range(size):\n",
      "        ^\n",
      "\n",
      "  warnings.warn(errors.NumbaWarning(warn_msg,\n",
      "/Library/Frameworks/Python.framework/Versions/3.8/lib/python3.8/site-packages/numba/object_mode_passes.py:187: NumbaDeprecationWarning: \n",
      "Fall-back from the nopython compilation path to the object mode compilation path has been detected, this is deprecated behaviour.\n",
      "\n",
      "For more information visit http://numba.pydata.org/numba-doc/latest/reference/deprecation.html#deprecation-of-object-mode-fall-back-behaviour-when-using-jit\n",
      "\n",
      "File \"../../../../../../../Library/Frameworks/Python.framework/Versions/3.8/lib/python3.8/site-packages/dc_stat_think/dc_stat_think.py\", line 279:\n",
      "    def _draw_bs_reps(data):\n",
      "        <source elided>\n",
      "        n = len(data)\n",
      "        for i in range(size):\n",
      "        ^\n",
      "\n",
      "  warnings.warn(errors.NumbaDeprecationWarning(msg,\n"
     ]
    },
    {
     "ename": "TypeError",
     "evalue": "'int' object is not callable",
     "output_type": "error",
     "traceback": [
      "\u001b[0;31m---------------------------------------------------------------------------\u001b[0m",
      "\u001b[0;31mTypeError\u001b[0m                                 Traceback (most recent call last)",
      "\u001b[0;32m<ipython-input-34-84b38bf638f2>\u001b[0m in \u001b[0;36m<module>\u001b[0;34m\u001b[0m\n\u001b[0;32m----> 1\u001b[0;31m \u001b[0mdcst\u001b[0m\u001b[0;34m.\u001b[0m\u001b[0mdraw_bs_reps\u001b[0m\u001b[0;34m(\u001b[0m\u001b[0mnp\u001b[0m\u001b[0;34m.\u001b[0m\u001b[0marray\u001b[0m\u001b[0;34m(\u001b[0m\u001b[0mdf_train\u001b[0m\u001b[0;34m.\u001b[0m\u001b[0mloc\u001b[0m\u001b[0;34m[\u001b[0m\u001b[0;34m:\u001b[0m\u001b[0;34m,\u001b[0m\u001b[0;34m'SalePrice'\u001b[0m\u001b[0;34m]\u001b[0m\u001b[0;34m)\u001b[0m\u001b[0;34m,\u001b[0m \u001b[0;36m10000\u001b[0m\u001b[0;34m)\u001b[0m\u001b[0;34m\u001b[0m\u001b[0;34m\u001b[0m\u001b[0m\n\u001b[0m",
      "\u001b[0;32m/Library/Frameworks/Python.framework/Versions/3.8/lib/python3.8/site-packages/dc_stat_think/dc_stat_think.py\u001b[0m in \u001b[0;36mdraw_bs_reps\u001b[0;34m(data, func, size, args)\u001b[0m\n\u001b[1;32m    282\u001b[0m         \u001b[0;32mreturn\u001b[0m \u001b[0mbs_reps\u001b[0m\u001b[0;34m\u001b[0m\u001b[0;34m\u001b[0m\u001b[0m\n\u001b[1;32m    283\u001b[0m \u001b[0;34m\u001b[0m\u001b[0m\n\u001b[0;32m--> 284\u001b[0;31m     \u001b[0;32mreturn\u001b[0m \u001b[0m_draw_bs_reps\u001b[0m\u001b[0;34m(\u001b[0m\u001b[0mdata\u001b[0m\u001b[0;34m)\u001b[0m\u001b[0;34m\u001b[0m\u001b[0;34m\u001b[0m\u001b[0m\n\u001b[0m\u001b[1;32m    285\u001b[0m \u001b[0;34m\u001b[0m\u001b[0m\n\u001b[1;32m    286\u001b[0m \u001b[0;34m\u001b[0m\u001b[0m\n",
      "\u001b[0;31mTypeError\u001b[0m: 'int' object is not callable"
     ]
    }
   ],
   "source": []
  },
  {
   "cell_type": "code",
   "execution_count": null,
   "metadata": {},
   "outputs": [],
   "source": []
  }
 ],
 "metadata": {
  "kernelspec": {
   "display_name": "Python 3.8.0 64-bit",
   "language": "python",
   "name": "python38064bita3e2b9284fe241009277b40c2dcf841c"
  },
  "language_info": {
   "codemirror_mode": {
    "name": "ipython",
    "version": 3
   },
   "file_extension": ".py",
   "mimetype": "text/x-python",
   "name": "python",
   "nbconvert_exporter": "python",
   "pygments_lexer": "ipython3",
   "version": "3.8.0"
  }
 },
 "nbformat": 4,
 "nbformat_minor": 4
}
